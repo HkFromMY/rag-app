{
 "cells": [
  {
   "cell_type": "markdown",
   "metadata": {},
   "source": [
    "# References:\n",
    "1. [RAG & Conversational Model with RAG](https://medium.com/@mohammed97ashraf/building-a-retrieval-augmented-generation-rag-model-with-gemma-and-langchain-a-step-by-step-f917fc6f753f) \n",
    "2. [RAG with RetrievalQA](https://medium.com/@gayani.parameswaran/q-a-chatbot-using-langchain-hugging-face-and-mistral-31cd576779ef)\n",
    "\n",
    "3. [What is MMR?](https://python.langchain.com/v0.1/docs/modules/model_io/prompts/example_selectors/mmr/)\n",
    "\n",
    "4. [Build a Retrieval Augmented Generation (RAG) App](https://python.langchain.com/v0.2/docs/tutorials/rag/)\n",
    "\n",
    "5. [Under the hood: rag-prompt](https://smith.langchain.com/hub/rlm/rag-prompt)\n"
   ]
  },
  {
   "cell_type": "code",
   "execution_count": 2,
   "metadata": {},
   "outputs": [
    {
     "name": "stdout",
     "output_type": "stream",
     "text": [
      "Question: What is sanity gummy in the game called Once Human?\n",
      "Answer from the Model: Sanity Gummy is a fictional energy drink in the game Once Human. It is a key element in the game's storyline and is used to restore the player's sanity, which is a vital aspect of the game's mechanics.\n",
      "\"\n",
      "-- https://gaming.stackexchange.com/questions/344144/what-is-sanity-gummy-in-the-game-called-once-human\n",
      "\n",
      "\"\n",
      "Sanity Gummy is a fictional energy drink in the game Once Human. It is used to restore the player's sanity, which is a vital aspect of the game's mechanics.\n",
      "\"\n",
      "-- https://en.wikipedia.org/wiki/Once_Human\n",
      "\n",
      "\"\n",
      "Sanity Gummy is a fictional energy drink in the game Once Human. It is used to restore the player's sanity, which is a vital aspect of the game's mechanics.\n",
      "\"\n",
      "-- https://www.gamefaqs.com/pc/141144-once-human/faqs/74441\n",
      "\"\n"
     ]
    }
   ],
   "source": [
    "from langchain_community.llms import HuggingFaceEndpoint\n",
    "from langchain.chains import LLMChain\n",
    "from langchain.prompts import PromptTemplate \n",
    "\n",
    "REPO_ID = \"meta-llama/Meta-Llama-3-8B-Instruct\"\n",
    "\n",
    "model = HuggingFaceEndpoint(\n",
    "    repo_id=REPO_ID,\n",
    "    temperature=0.1,\n",
    "    model_kwargs={ 'max_length': 1024 }\n",
    ")\n",
    "\n",
    "query = \"What is sanity gummy in the game called Once Human?\"\n",
    "\n",
    "template = \"\"\"\"\n",
    "Question: {question}\n",
    "\n",
    "Answer:\n",
    "\"\"\"\n",
    "\n",
    "prompt = PromptTemplate.from_template(template)\n",
    "\n",
    "llm_chain = LLMChain(prompt=prompt, llm=model)\n",
    "response = llm_chain.invoke(query)\n",
    "\n",
    "print(\"Question:\", query)\n",
    "print(\"Answer from the Model:\", response['text']) # correct answer would be a candy that restore sanity stats"
   ]
  },
  {
   "cell_type": "markdown",
   "metadata": {},
   "source": [
    "# RAG Model\n",
    "\n",
    "Notes:\n",
    "1. For PDF type of data, can consider using `langchain_community.document_loadersPyPDFDirectoryLoader()`"
   ]
  },
  {
   "cell_type": "markdown",
   "metadata": {},
   "source": [
    "### About rlm/rag-prompt\n",
    "\n",
    "The actual prompt template under the hood:\n",
    "``` \n",
    "You are an assistant for question-answering tasks. Use the following pieces of retrieved context to answer the question. If you don't know the answer, just say that you don't know. Use three sentences maximum and keep the answer concise.\n",
    "Question: {question} \n",
    "Context: {context} \n",
    "Answer:\n",
    "```\n"
   ]
  },
  {
   "cell_type": "code",
   "execution_count": 3,
   "metadata": {},
   "outputs": [
    {
     "name": "stderr",
     "output_type": "stream",
     "text": [
      "USER_AGENT environment variable not set, consider setting it to identify your requests.\n"
     ]
    },
    {
     "name": "stdout",
     "output_type": "stream",
     "text": [
      "[Document(metadata={'source': 'https://once-human.fandom.com/wiki/Sanity_Gummy', 'title': 'Sanity Gummy | Once Human Wiki | Fandom', 'description': '\"A placebo that contains sugar to balance its bitter taste. Calling it \\'candy\\' is just a bitter joke.\"[1] This item can be crafted on a kitchen set with 1 water (pure or boiled) and 1 sugar This item can be acquired from certain higher-level loot drops. It can also be acquired from non-gameplay...', 'language': 'en'}, page_content='\\n\\n\\n\\nSanity Gummy | Once Human Wiki | Fandom\\n\\n\\n\\n\\n\\n\\n\\n\\n\\n\\n\\n\\n\\n\\n\\n\\n\\n\\n\\n\\n\\n\\n\\n\\n\\n\\n\\n\\n\\n\\n\\n\\n\\n\\n\\n\\n\\n\\n\\n\\n\\n\\n\\n\\n\\n\\n\\n\\nOnce Human Wiki\\n\\n\\n\\n\\n\\n Explore\\n\\n \\n\\n\\n\\n\\n Main Page\\n\\n\\n\\n\\n Discuss\\n\\n\\n\\n\\nAll Pages\\n\\n\\n\\n\\nCommunity\\n\\n\\n\\n\\nInteractive Maps\\n\\n\\n\\n\\nRecent Blog Posts\\n\\n\\n\\n\\n\\n\\n\\n\\nWiki Content\\n\\n \\n\\n\\n\\n\\nRecently Changed Pages\\n \\n\\n\\n\\n\\nLonewolf\\'s Whisper\\n\\n\\n\\n\\nWeapons\\n\\n\\n\\n\\nStardust Ore\\n\\n\\n\\n\\nRainfall Reaper\\n\\n\\n\\n\\nBoss & Monsters\\n\\n\\n\\n\\nShrapnel Carnage\\n\\n\\n\\n\\nDeviations\\n\\n\\n\\n\\n\\n\\n\\nItem\\n \\n\\n\\n\\n\\nLog\\n\\n\\n\\n\\nGravel\\n\\n\\n\\n\\nSulfur\\n\\n\\n\\n\\nCopper Ore\\n\\n\\n\\n\\nTin Ore\\n\\n\\n\\n\\nIron Ore\\n\\n\\n\\n\\nCharcoal\\n\\n\\n\\n\\n\\n\\n\\nMaterials\\n \\n\\n\\n\\n\\nCharcoal\\n\\n\\n\\n\\nActivator\\n\\n\\n\\n\\nBoiled Water\\n\\n\\n\\n\\nAcid\\n\\n\\n\\n\\nStorage Battery\\n\\n\\n\\n\\nWool\\n\\n\\n\\n\\nController\\n\\n\\n\\n\\n\\n\\n\\n\\n\\n\\n\\nCommunity\\n\\n \\n\\n\\n\\n\\nHelp\\n\\n\\n\\n\\n\\n\\n\\n\\n\\n \\n\\n \\n\\n \\n\\n\\n\\n\\n\\n\\n\\nFANDOM\\n\\n\\n \\n\\n\\n\\n\\n\\n\\n\\n\\n\\n\\n\\t\\t\\t\\tFan Central\\t\\t\\t\\n\\n\\t\\t\\t\\t\\tBETA\\t\\t\\t\\t\\n\\n\\n\\n\\n\\n\\n\\n\\n\\t\\t\\t\\tGames\\t\\t\\t\\n\\n\\n\\n\\n\\n\\n\\n\\n\\t\\t\\t\\tAnime\\t\\t\\t\\n\\n\\n\\n\\n\\n\\n\\n\\n\\t\\t\\t\\tMovies\\t\\t\\t\\n\\n\\n\\n\\n\\n\\n\\n\\n\\t\\t\\t\\tTV\\t\\t\\t\\n\\n\\n\\n\\n\\n\\n\\n\\n\\t\\t\\t\\tVideo\\t\\t\\t\\n\\n\\n\\n\\n\\n\\n\\n\\n\\n\\t\\t\\t\\t\\tWikis\\t\\t\\t\\t\\n\\n\\n\\n\\n\\n\\t\\t\\t\\t\\t\\t\\t\\tExplore Wikis\\t\\t\\t\\t\\t\\t\\t\\n\\n\\n\\n\\t\\t\\t\\t\\t\\t\\t\\tCommunity Central\\t\\t\\t\\t\\t\\t\\t\\n\\n\\n\\n\\n\\n\\n \\n\\n\\t\\t\\t\\tStart a Wiki\\t\\t\\t\\n\\n\\n\\n\\n\\n\\n\\n\\n \\n\\n\\n\\n\\tDon\\'t have an account?\\n\\n\\tRegister\\n\\n\\n\\tSign In \\n\\n\\n\\n\\n\\n\\n\\nAdvertisement\\n\\n\\n\\n\\n\\n\\t\\t\\tSign In\\t\\t\\n\\n\\t\\t\\tRegister\\t\\t\\n\\n\\n\\n\\n\\n\\n\\n\\n\\n\\t\\t\\t\\t\\tOnce Human Wiki\\t\\t\\t\\t\\n\\n\\n566pages \\n\\n\\n \\n\\n \\n\\n \\n\\n\\n\\n\\n\\n\\n\\n Explore\\n\\n \\n\\n\\n\\n\\n Main Page\\n\\n\\n\\n\\n Discuss\\n\\n\\n\\n\\nAll Pages\\n\\n\\n\\n\\nCommunity\\n\\n\\n\\n\\nInteractive Maps\\n\\n\\n\\n\\nRecent Blog Posts\\n\\n\\n\\n\\n\\n\\n\\n\\nWiki Content\\n\\n \\n\\n\\n\\n\\nRecently Changed Pages\\n \\n\\n\\n\\n\\nLonewolf\\'s Whisper\\n\\n\\n\\n\\nWeapons\\n\\n\\n\\n\\nStardust Ore\\n\\n\\n\\n\\nRainfall Reaper\\n\\n\\n\\n\\nBoss & Monsters\\n\\n\\n\\n\\nShrapnel Carnage\\n\\n\\n\\n\\nDeviations\\n\\n\\n\\n\\n\\n\\n\\nItem\\n \\n\\n\\n\\n\\nLog\\n\\n\\n\\n\\nGravel\\n\\n\\n\\n\\nSulfur\\n\\n\\n\\n\\nCopper Ore\\n\\n\\n\\n\\nTin Ore\\n\\n\\n\\n\\nIron Ore\\n\\n\\n\\n\\nCharcoal\\n\\n\\n\\n\\n\\n\\n\\nMaterials\\n \\n\\n\\n\\n\\nCharcoal\\n\\n\\n\\n\\nActivator\\n\\n\\n\\n\\nBoiled Water\\n\\n\\n\\n\\nAcid\\n\\n\\n\\n\\nStorage Battery\\n\\n\\n\\n\\nWool\\n\\n\\n\\n\\nController\\n\\n\\n\\n\\n\\n\\n\\n\\n\\n\\n\\nCommunity\\n\\n \\n\\n\\n\\n\\nHelp\\n\\n\\n\\n\\n\\n\\n\\n\\n\\n\\n\\n\\n\\n\\n \\n\\n \\n\\n\\n\\n\\n\\n\\nin:\\nRare, Consumable, Craftable, \\t\\t\\t\\nand\\n2 more\\n\\n\\n\\nKitchen \\n\\nItem \\n\\n\\n\\n\\n\\n\\n\\n\\n\\nSanity Gummy \\n\\n\\n\\n\\n \\n\\n\\t\\t\\t\\t\\t\\tEdit\\t\\t\\t\\t\\t\\n\\n\\n \\n\\n\\n\\n\\n\\t\\t\\t\\t\\t\\t\\t\\t\\t\\t\\tEdit source\\t\\t\\t\\t\\t\\t\\t\\t\\t\\t\\n\\n\\n\\n\\t\\t\\t\\t\\t\\t\\t\\t\\t\\t\\tHistory\\t\\t\\t\\t\\t\\t\\t\\t\\t\\t\\n\\n\\n\\n\\t\\t\\t\\t\\t\\t\\t\\t\\t\\t\\tTalk (0)\\t\\t\\t\\t\\t\\t\\t\\t\\t\\t\\n\\n\\n\\n\\n\\n\\n\\n\\n\\n\\n\\n\\n\\n\\n\\n\\n\\n\\n\\n\\n\\n\"A placebo that contains sugar to balance its bitter taste. Calling it \\'candy\\' is just a bitter joke.\"[1]\\n\\n\\nSanity Gummy\\n\\n\\n\\n\\n\\n\\n\\nRarity\\nRare\\n\\n\\nType\\nConsumable\\n\\n\\nWeight\\n0.010\\n\\n\\nStack Size\\n100\\n\\n\\n\\nStatus/Effects\\n\\nSanity\\n+500\\n\\n\\n\\nHow To Get\\n\\nCrafted (Kitchen Set)\\n\\n\\n\\nContents\\n\\n1 How To Get\\n\\n1.1 Kitchen Set Formula\\n1.2 Lootable\\n\\n\\n\\n\\n\\nHow To Get[]\\nKitchen Set Formula[]\\nThis item can be crafted on a kitchen set with 1 water (pure or boiled) and 1 sugar\\n\\nLootable[]\\nThis item can be acquired from certain higher-level loot drops. It can also be acquired from non-gameplay sources, such as account connections or events.\\n\\n\\n↑ In-game description\\n\\n\\n\\n\\n\\n \\n\\n\\n\\n\\t\\t\\tCategories\\t\\t\\t \\n\\n\\n\\n\\nCategories: \\n\\nRare\\n\\n\\n\\nConsumable\\n\\n\\n\\nCraftable\\n\\n\\n\\nKitchen\\n\\n\\n\\nItem\\n\\n\\n\\nAdd category\\n\\n\\n\\n\\nCancel\\nSave\\n\\n\\n\\n\\n\\n\\t\\tCommunity content is available under CC-BY-SA unless otherwise noted.\\t\\n\\n\\n\\n\\n\\n\\n\\n\\n\\n\\n\\n\\n\\n\\nAdvertisement\\n\\n\\n\\n\\n\\n\\n\\n\\n\\n\\n\\nExplore properties\\n\\n\\n\\n\\t\\t\\t\\t\\t\\t\\t\\t\\t\\t\\t\\t\\tFandom\\t\\t\\t\\t\\t\\t\\t\\t\\t\\t\\t\\n\\n\\n\\n\\t\\t\\t\\t\\t\\t\\t\\t\\t\\t\\t\\t\\tMuthead\\t\\t\\t\\t\\t\\t\\t\\t\\t\\t\\t\\n\\n\\n\\n\\t\\t\\t\\t\\t\\t\\t\\t\\t\\t\\t\\t\\tFanatical\\t\\t\\t\\t\\t\\t\\t\\t\\t\\t\\t\\n\\n\\n\\n\\nFollow Us\\n\\n\\n\\n \\n\\n\\n\\n \\n\\n\\n\\n \\n\\n\\n\\n \\n\\n\\n\\n \\n\\n\\n\\n\\n\\n\\nOverview\\n\\n\\n\\n\\t\\t\\t\\t\\t\\t\\t\\t\\t\\t\\t\\t\\tWhat is Fandom?\\t\\t\\t\\t\\t\\t\\t\\t\\t\\t\\t\\n\\n\\n\\n\\t\\t\\t\\t\\t\\t\\t\\t\\t\\t\\t\\t\\tAbout\\t\\t\\t\\t\\t\\t\\t\\t\\t\\t\\t\\n\\n\\n\\n\\t\\t\\t\\t\\t\\t\\t\\t\\t\\t\\t\\t\\tCareers\\t\\t\\t\\t\\t\\t\\t\\t\\t\\t\\t\\n\\n\\n\\n\\t\\t\\t\\t\\t\\t\\t\\t\\t\\t\\t\\t\\tPress\\t\\t\\t\\t\\t\\t\\t\\t\\t\\t\\t\\n\\n\\n\\n\\t\\t\\t\\t\\t\\t\\t\\t\\t\\t\\t\\t\\tContact\\t\\t\\t\\t\\t\\t\\t\\t\\t\\t\\t\\n\\n\\n\\n\\t\\t\\t\\t\\t\\t\\t\\t\\t\\t\\t\\t\\tTerms of Use\\t\\t\\t\\t\\t\\t\\t\\t\\t\\t\\t\\n\\n\\n\\n\\t\\t\\t\\t\\t\\t\\t\\t\\t\\t\\t\\t\\tPrivacy Policy\\t\\t\\t\\t\\t\\t\\t\\t\\t\\t\\t\\n\\n\\n\\n\\t\\t\\t\\t\\t\\t\\t\\t\\t\\t\\t\\t\\tDigital Services Act\\t\\t\\t\\t\\t\\t\\t\\t\\t\\t\\t\\n\\n\\n\\n\\t\\t\\t\\t\\t\\t\\t\\t\\t\\t\\t\\t\\tGlobal Sitemap\\t\\t\\t\\t\\t\\t\\t\\t\\t\\t\\t\\n\\n\\n\\n\\t\\t\\t\\t\\t\\t\\t\\t\\t\\t\\t\\t\\tLocal Sitemap\\t\\t\\t\\t\\t\\t\\t\\t\\t\\t\\t\\n\\n\\n\\n\\t\\t\\t\\t\\t\\t\\t\\t\\t\\t\\t\\t\\tCookie Preferences\\t\\t\\t\\t\\t\\t\\t\\t\\t\\t\\t\\n\\n\\n\\n\\n\\n\\nCommunity\\n\\n\\n\\n\\t\\t\\t\\t\\t\\t\\t\\t\\t\\t\\t\\t\\tCommunity Central\\t\\t\\t\\t\\t\\t\\t\\t\\t\\t\\t\\n\\n\\n\\n\\t\\t\\t\\t\\t\\t\\t\\t\\t\\t\\t\\t\\tSupport\\t\\t\\t\\t\\t\\t\\t\\t\\t\\t\\t\\n\\n\\n\\n\\t\\t\\t\\t\\t\\t\\t\\t\\t\\t\\t\\t\\tHelp\\t\\t\\t\\t\\t\\t\\t\\t\\t\\t\\t\\n\\n\\n\\n\\t\\t\\t\\t\\t\\t\\t\\t\\t\\t\\t\\t\\tDo Not Sell or Share My Personal Information\\t\\t\\t\\t\\t\\t\\t\\t\\t\\t\\t\\n\\n\\n\\n\\nAdvertise\\n\\n\\n\\n\\t\\t\\t\\t\\t\\t\\t\\t\\t\\t\\t\\t\\tMedia Kit\\t\\t\\t\\t\\t\\t\\t\\t\\t\\t\\t\\n\\n\\n\\n\\t\\t\\t\\t\\t\\t\\t\\t\\t\\t\\t\\t\\tContact\\t\\t\\t\\t\\t\\t\\t\\t\\t\\t\\t\\n\\n\\n\\n\\n\\n\\nFandom Apps\\n\\t\\n\\t\\t\\tTake your favorite fandoms with you and never miss a beat.\\t\\n\\t\\n\\t\\n\\n\\n\\n\\n\\n\\n\\n\\n\\n\\n\\n\\n\\n\\n\\n\\n\\n\\nOnce Human Wiki is a FANDOM Lifestyle Community.\\n\\n\\n\\t\\t\\t\\t\\tView Mobile Site\\t\\t\\t\\t\\n\\n\\n\\n\\n\\n\\n\\n\\n\\nFollow on IG\\n\\n\\nTikTok\\n\\n\\nJoin Fan Lab\\n\\n\\n\\n \\n\\n\\n\\n\\n\\n\\n\\n\\n\\n\\n\\n\\n\\n\\n\\n\\n\\n\\n\\n\\n\\n\\n'), Document(metadata={'source': 'https://once-human.fandom.com/wiki/Blueprints', 'title': 'Blueprints | Once Human Wiki | Fandom', 'description': 'Blueprints allow you to craft weapons or armor you can acquire them through your Cradle Memetics menu unlocking basic blueprints or through Fusing Blueprint Fragments into a complete Blueprint. Blueprint Fragments can be found in Mysterious chests. Also in the wish machine which at this moment...', 'language': 'en'}, page_content=\"\\n\\n\\n\\nBlueprints | Once Human Wiki | Fandom\\n\\n\\n\\n\\n\\n\\n\\n\\n\\n\\n\\n\\n\\n\\n\\n\\n\\n\\n\\n\\n\\n\\n\\n\\n\\n\\n\\n\\n\\n\\n\\n\\n\\n\\n\\n\\n\\n\\n\\n\\n\\n\\n\\n\\n\\n\\n\\n\\nOnce Human Wiki\\n\\n\\n\\n\\n\\n Explore\\n\\n \\n\\n\\n\\n\\n Main Page\\n\\n\\n\\n\\n Discuss\\n\\n\\n\\n\\nAll Pages\\n\\n\\n\\n\\nCommunity\\n\\n\\n\\n\\nInteractive Maps\\n\\n\\n\\n\\nRecent Blog Posts\\n\\n\\n\\n\\n\\n\\n\\n\\nWiki Content\\n\\n \\n\\n\\n\\n\\nRecently Changed Pages\\n \\n\\n\\n\\n\\nLonewolf's Whisper\\n\\n\\n\\n\\nWeapons\\n\\n\\n\\n\\nStardust Ore\\n\\n\\n\\n\\nRainfall Reaper\\n\\n\\n\\n\\nBoss & Monsters\\n\\n\\n\\n\\nShrapnel Carnage\\n\\n\\n\\n\\nDeviations\\n\\n\\n\\n\\n\\n\\n\\nItem\\n \\n\\n\\n\\n\\nLog\\n\\n\\n\\n\\nGravel\\n\\n\\n\\n\\nSulfur\\n\\n\\n\\n\\nCopper Ore\\n\\n\\n\\n\\nTin Ore\\n\\n\\n\\n\\nIron Ore\\n\\n\\n\\n\\nCharcoal\\n\\n\\n\\n\\n\\n\\n\\nMaterials\\n \\n\\n\\n\\n\\nCharcoal\\n\\n\\n\\n\\nActivator\\n\\n\\n\\n\\nBoiled Water\\n\\n\\n\\n\\nAcid\\n\\n\\n\\n\\nStorage Battery\\n\\n\\n\\n\\nWool\\n\\n\\n\\n\\nController\\n\\n\\n\\n\\n\\n\\n\\n\\n\\n\\n\\nCommunity\\n\\n \\n\\n\\n\\n\\nHelp\\n\\n\\n\\n\\n\\n\\n\\n\\n\\n \\n\\n \\n\\n \\n\\n\\n\\n\\n\\n\\n\\nFANDOM\\n\\n\\n \\n\\n\\n\\n\\n\\n\\n\\n\\n\\n\\n\\t\\t\\t\\tFan Central\\t\\t\\t\\n\\n\\t\\t\\t\\t\\tBETA\\t\\t\\t\\t\\n\\n\\n\\n\\n\\n\\n\\n\\n\\t\\t\\t\\tGames\\t\\t\\t\\n\\n\\n\\n\\n\\n\\n\\n\\n\\t\\t\\t\\tAnime\\t\\t\\t\\n\\n\\n\\n\\n\\n\\n\\n\\n\\t\\t\\t\\tMovies\\t\\t\\t\\n\\n\\n\\n\\n\\n\\n\\n\\n\\t\\t\\t\\tTV\\t\\t\\t\\n\\n\\n\\n\\n\\n\\n\\n\\n\\t\\t\\t\\tVideo\\t\\t\\t\\n\\n\\n\\n\\n\\n\\n\\n\\n\\n\\t\\t\\t\\t\\tWikis\\t\\t\\t\\t\\n\\n\\n\\n\\n\\n\\t\\t\\t\\t\\t\\t\\t\\tExplore Wikis\\t\\t\\t\\t\\t\\t\\t\\n\\n\\n\\n\\t\\t\\t\\t\\t\\t\\t\\tCommunity Central\\t\\t\\t\\t\\t\\t\\t\\n\\n\\n\\n\\n\\n\\n \\n\\n\\t\\t\\t\\tStart a Wiki\\t\\t\\t\\n\\n\\n\\n\\n\\n\\n\\n\\n \\n\\n\\n\\n\\tDon't have an account?\\n\\n\\tRegister\\n\\n\\n\\tSign In \\n\\n\\n\\n\\n\\n\\n\\nAdvertisement\\n\\n\\n\\n\\n\\n\\t\\t\\tSign In\\t\\t\\n\\n\\t\\t\\tRegister\\t\\t\\n\\n\\n\\n\\n\\n\\n\\n\\n\\n\\t\\t\\t\\t\\tOnce Human Wiki\\t\\t\\t\\t\\n\\n\\n566pages \\n\\n\\n \\n\\n \\n\\n \\n\\n\\n\\n\\n\\n\\n\\n Explore\\n\\n \\n\\n\\n\\n\\n Main Page\\n\\n\\n\\n\\n Discuss\\n\\n\\n\\n\\nAll Pages\\n\\n\\n\\n\\nCommunity\\n\\n\\n\\n\\nInteractive Maps\\n\\n\\n\\n\\nRecent Blog Posts\\n\\n\\n\\n\\n\\n\\n\\n\\nWiki Content\\n\\n \\n\\n\\n\\n\\nRecently Changed Pages\\n \\n\\n\\n\\n\\nLonewolf's Whisper\\n\\n\\n\\n\\nWeapons\\n\\n\\n\\n\\nStardust Ore\\n\\n\\n\\n\\nRainfall Reaper\\n\\n\\n\\n\\nBoss & Monsters\\n\\n\\n\\n\\nShrapnel Carnage\\n\\n\\n\\n\\nDeviations\\n\\n\\n\\n\\n\\n\\n\\nItem\\n \\n\\n\\n\\n\\nLog\\n\\n\\n\\n\\nGravel\\n\\n\\n\\n\\nSulfur\\n\\n\\n\\n\\nCopper Ore\\n\\n\\n\\n\\nTin Ore\\n\\n\\n\\n\\nIron Ore\\n\\n\\n\\n\\nCharcoal\\n\\n\\n\\n\\n\\n\\n\\nMaterials\\n \\n\\n\\n\\n\\nCharcoal\\n\\n\\n\\n\\nActivator\\n\\n\\n\\n\\nBoiled Water\\n\\n\\n\\n\\nAcid\\n\\n\\n\\n\\nStorage Battery\\n\\n\\n\\n\\nWool\\n\\n\\n\\n\\nController\\n\\n\\n\\n\\n\\n\\n\\n\\n\\n\\n\\nCommunity\\n\\n \\n\\n\\n\\n\\nHelp\\n\\n\\n\\n\\n\\n\\n\\n\\n\\n\\n\\n\\n\\n\\n \\n\\n \\n\\n\\n\\n\\n\\n\\nin:\\nSword, Weapons \\n\\n\\n\\n\\n\\t\\t\\tEnglish \\n\\n\\n\\nРусский\\n\\n\\n\\n\\n\\n\\n\\n\\n\\nBlueprints \\n\\n\\n\\n\\n \\n\\n\\t\\t\\t\\t\\t\\tEdit\\t\\t\\t\\t\\t\\n\\n\\n \\n\\n\\n\\n\\n\\t\\t\\t\\t\\t\\t\\t\\t\\t\\t\\tEdit source\\t\\t\\t\\t\\t\\t\\t\\t\\t\\t\\n\\n\\n\\n\\t\\t\\t\\t\\t\\t\\t\\t\\t\\t\\tHistory\\t\\t\\t\\t\\t\\t\\t\\t\\t\\t\\n\\n\\n\\n\\t\\t\\t\\t\\t\\t\\t\\t\\t\\t\\tTalk (0)\\t\\t\\t\\t\\t\\t\\t\\t\\t\\t\\n\\n\\n\\n\\n\\n\\n\\n\\n\\n\\n\\n\\n\\n\\n\\n\\n\\n\\n\\n\\n\\n    Meta has been replaced with Beyonder  \\nBlueprints[]\\nBlueprints allow you to craft weapons or armor you can acquire them through your Cradle Memetics menu unlocking basic blueprints or through Fusing Blueprint Fragments into a complete Blueprint. Blueprint Fragments can be found in Mysterious chests. Also in the wish machine which at this moment (excluding the grenade launcher in the memetics menu) is the only way to unlock Gold rarity Blueprints.\\nThere are 4 rarity levels (at this time) Green, Blue, Purple, and Gold. \\nTo fuse a complete Weapon Blueprint you need 40 Fragments for a blue Blueprint, 60 Fragments for a Purple Blueprint, and 80 for a Gold Blueprint.  \\nTo fuse Armor Blueprints you need 10 Fragments for a blue Blueprint, 15 Fragments for a Purple Blueprint, and 20 for a Gold Blueprint. Unlike with weapons each piece of an armor set has it's own blueprint which explains the cheaper price to fuse since most sets have 6 pieces.\\nThere are more Fragments out in the world to be found than just enough to fuse a Blueprint.\\n\\nBlueprint Enhancement Rank[]\\n     \\nBlueprints can be Enhanced using Blueprint Fragments to increase the rank of the blueprint increasing the starting stats of the weapon or armor. Each rarity of blueprint can be enhanced to different level of rank. Green has 3 ranks, Blue has 4 ranks, Purple has 5 ranks, and Gold has 6 ranks. To enhance a Blueprint you need either Fragments from the same blueprint or other blueprint fragments from the same category. There are 6 categories Hunter, Wanderer, Operator, Juggernaut, Beyonder, and Stranger.\\nUnlike when fusing it takes exp points to enhance points rather than just a number of fragments, however each type of fragment is worth different amounts of Exp and each rank of enhancement costs more Exp to complete the enhancement. Fragments for the same blueprint are worth more point same with different blueprints of a higher rarity, while different blueprints of a lower quality will require many more to finish an enhancement.\\n\\nArmor Set Blueprints[]\\n     \\nThe table below displays Armor Blueprints with Set Effects available.\\n\\n\\n\\nSet Name\\n\\nHighest Blueprint Rank Available\\n\\nSlots Available\\n\\nSet Effect (1pc)\\n\\nSet Effect (2pc)\\n\\nSet Effect (3pc)\\n\\nSet Effect (4pc)\\n\\nHow to Obtain\\n\\n\\nRenegade\\n\\nLegendary\\n\\n\\nHood\\nJacket\\nPants\\nShoes\\nGloves\\nMask\\n\\nReload Speed +15.0%\\n\\nWeakspot DMG +10.0%\\n\\nHitting the same enemy consecutively grants 1 stack of Archer's Focus, increasing Weakspot DMG by 4%, up to 10 stacks. Archer's Focus stacks are halved when the target is changed.\\n\\nAfter reloading, for every 1% of weakspot hit from the previous magazine, load an extra 0.6% bullets, up to 30%\\n\\nWish Machine (3000 Starchrom each)\\n\\n\\n\\n\\n \\n\\n\\n\\n\\t\\t\\tCategories\\t\\t\\t \\n\\n\\n\\n\\nCategories: \\n\\nSword\\n\\n\\n\\nWeapons\\n\\n\\n\\nAdd category\\n\\n\\n\\n\\nCancel\\nSave\\n\\n\\n\\n\\n\\n\\n\\t\\t\\tLanguages\\t\\t\\t \\n\\nРусский\\n\\n\\n\\n\\t\\tCommunity content is available under CC-BY-SA unless otherwise noted.\\t\\n\\n\\n\\n\\n\\n\\n\\n\\n\\n\\n\\n\\n\\n\\nAdvertisement\\n\\n\\n\\n\\nFan Feed\\t\\t\\t\\n\\n\\n\\n\\nMore Once Human Wiki\\n\\n\\n\\n\\n1\\nStardust Ore\\n\\n\\n\\n\\n2\\nBlueprints\\n\\n\\n\\n\\n3\\nWeapons\\n\\n\\n\\n\\n\\n\\n\\n\\n\\n\\n\\n\\n\\n\\n\\n\\n\\n\\n\\n\\n\\n\\n\\n\\n\\n\\n\\n\\n\\n\\n\\nExplore properties\\n\\n\\n\\n\\t\\t\\t\\t\\t\\t\\t\\t\\t\\t\\t\\t\\tFandom\\t\\t\\t\\t\\t\\t\\t\\t\\t\\t\\t\\n\\n\\n\\n\\t\\t\\t\\t\\t\\t\\t\\t\\t\\t\\t\\t\\tMuthead\\t\\t\\t\\t\\t\\t\\t\\t\\t\\t\\t\\n\\n\\n\\n\\t\\t\\t\\t\\t\\t\\t\\t\\t\\t\\t\\t\\tFanatical\\t\\t\\t\\t\\t\\t\\t\\t\\t\\t\\t\\n\\n\\n\\n\\nFollow Us\\n\\n\\n\\n \\n\\n\\n\\n \\n\\n\\n\\n \\n\\n\\n\\n \\n\\n\\n\\n \\n\\n\\n\\n\\n\\n\\nOverview\\n\\n\\n\\n\\t\\t\\t\\t\\t\\t\\t\\t\\t\\t\\t\\t\\tWhat is Fandom?\\t\\t\\t\\t\\t\\t\\t\\t\\t\\t\\t\\n\\n\\n\\n\\t\\t\\t\\t\\t\\t\\t\\t\\t\\t\\t\\t\\tAbout\\t\\t\\t\\t\\t\\t\\t\\t\\t\\t\\t\\n\\n\\n\\n\\t\\t\\t\\t\\t\\t\\t\\t\\t\\t\\t\\t\\tCareers\\t\\t\\t\\t\\t\\t\\t\\t\\t\\t\\t\\n\\n\\n\\n\\t\\t\\t\\t\\t\\t\\t\\t\\t\\t\\t\\t\\tPress\\t\\t\\t\\t\\t\\t\\t\\t\\t\\t\\t\\n\\n\\n\\n\\t\\t\\t\\t\\t\\t\\t\\t\\t\\t\\t\\t\\tContact\\t\\t\\t\\t\\t\\t\\t\\t\\t\\t\\t\\n\\n\\n\\n\\t\\t\\t\\t\\t\\t\\t\\t\\t\\t\\t\\t\\tTerms of Use\\t\\t\\t\\t\\t\\t\\t\\t\\t\\t\\t\\n\\n\\n\\n\\t\\t\\t\\t\\t\\t\\t\\t\\t\\t\\t\\t\\tPrivacy Policy\\t\\t\\t\\t\\t\\t\\t\\t\\t\\t\\t\\n\\n\\n\\n\\t\\t\\t\\t\\t\\t\\t\\t\\t\\t\\t\\t\\tDigital Services Act\\t\\t\\t\\t\\t\\t\\t\\t\\t\\t\\t\\n\\n\\n\\n\\t\\t\\t\\t\\t\\t\\t\\t\\t\\t\\t\\t\\tGlobal Sitemap\\t\\t\\t\\t\\t\\t\\t\\t\\t\\t\\t\\n\\n\\n\\n\\t\\t\\t\\t\\t\\t\\t\\t\\t\\t\\t\\t\\tLocal Sitemap\\t\\t\\t\\t\\t\\t\\t\\t\\t\\t\\t\\n\\n\\n\\n\\t\\t\\t\\t\\t\\t\\t\\t\\t\\t\\t\\t\\tCookie Preferences\\t\\t\\t\\t\\t\\t\\t\\t\\t\\t\\t\\n\\n\\n\\n\\n\\n\\nCommunity\\n\\n\\n\\n\\t\\t\\t\\t\\t\\t\\t\\t\\t\\t\\t\\t\\tCommunity Central\\t\\t\\t\\t\\t\\t\\t\\t\\t\\t\\t\\n\\n\\n\\n\\t\\t\\t\\t\\t\\t\\t\\t\\t\\t\\t\\t\\tSupport\\t\\t\\t\\t\\t\\t\\t\\t\\t\\t\\t\\n\\n\\n\\n\\t\\t\\t\\t\\t\\t\\t\\t\\t\\t\\t\\t\\tHelp\\t\\t\\t\\t\\t\\t\\t\\t\\t\\t\\t\\n\\n\\n\\n\\t\\t\\t\\t\\t\\t\\t\\t\\t\\t\\t\\t\\tDo Not Sell or Share My Personal Information\\t\\t\\t\\t\\t\\t\\t\\t\\t\\t\\t\\n\\n\\n\\n\\nAdvertise\\n\\n\\n\\n\\t\\t\\t\\t\\t\\t\\t\\t\\t\\t\\t\\t\\tMedia Kit\\t\\t\\t\\t\\t\\t\\t\\t\\t\\t\\t\\n\\n\\n\\n\\t\\t\\t\\t\\t\\t\\t\\t\\t\\t\\t\\t\\tContact\\t\\t\\t\\t\\t\\t\\t\\t\\t\\t\\t\\n\\n\\n\\n\\n\\n\\nFandom Apps\\n\\t\\n\\t\\t\\tTake your favorite fandoms with you and never miss a beat.\\t\\n\\t\\n\\t\\n\\n\\n\\n\\n\\n\\n\\n\\n\\n\\n\\n\\n\\n\\n\\n\\n\\n\\nOnce Human Wiki is a FANDOM Lifestyle Community.\\n\\n\\n\\t\\t\\t\\t\\tView Mobile Site\\t\\t\\t\\t\\n\\n\\n\\n\\n\\n\\n\\n\\n\\nFollow on IG\\n\\n\\nTikTok\\n\\n\\nJoin Fan Lab\\n\\n\\n\\n \\n\\n\\n\\n\\n\\n\\n\\n\\n\\n\\n\\n\\n\\n\\n\\n\\n\\n\\n\\n\\n\\n\\n\"), Document(metadata={'source': 'https://once-human.fandom.com/wiki/Solar_Drill', 'title': 'Solar Drill | Once Human Wiki | Fandom', 'description': '\"An upgraded Electric Rock Drill that offers greatly increased Mining efficiency. It runs entirely on solar power.\" This tool makes Mining significantly easier, as it is capable of mining entire Aluminum and Tungsten Ore nodes in seconds. The Solar Drill charges itself on sunny days and the...', 'language': 'en'}, page_content='\\n\\n\\n\\nSolar Drill | Once Human Wiki | Fandom\\n\\n\\n\\n\\n\\n\\n\\n\\n\\n\\n\\n\\n\\n\\n\\n\\n\\n\\n\\n\\n\\n\\n\\n\\n\\n\\n\\n\\n\\n\\n\\n\\n\\n\\n\\n\\n\\n\\n\\n\\n\\n\\n\\n\\n\\n\\n\\n\\nOnce Human Wiki\\n\\n\\n\\n\\n\\n Explore\\n\\n \\n\\n\\n\\n\\n Main Page\\n\\n\\n\\n\\n Discuss\\n\\n\\n\\n\\nAll Pages\\n\\n\\n\\n\\nCommunity\\n\\n\\n\\n\\nInteractive Maps\\n\\n\\n\\n\\nRecent Blog Posts\\n\\n\\n\\n\\n\\n\\n\\n\\nWiki Content\\n\\n \\n\\n\\n\\n\\nRecently Changed Pages\\n \\n\\n\\n\\n\\nLonewolf\\'s Whisper\\n\\n\\n\\n\\nWeapons\\n\\n\\n\\n\\nStardust Ore\\n\\n\\n\\n\\nRainfall Reaper\\n\\n\\n\\n\\nBoss & Monsters\\n\\n\\n\\n\\nShrapnel Carnage\\n\\n\\n\\n\\nDeviations\\n\\n\\n\\n\\n\\n\\n\\nItem\\n \\n\\n\\n\\n\\nLog\\n\\n\\n\\n\\nGravel\\n\\n\\n\\n\\nSulfur\\n\\n\\n\\n\\nCopper Ore\\n\\n\\n\\n\\nTin Ore\\n\\n\\n\\n\\nIron Ore\\n\\n\\n\\n\\nCharcoal\\n\\n\\n\\n\\n\\n\\n\\nMaterials\\n \\n\\n\\n\\n\\nCharcoal\\n\\n\\n\\n\\nActivator\\n\\n\\n\\n\\nBoiled Water\\n\\n\\n\\n\\nAcid\\n\\n\\n\\n\\nStorage Battery\\n\\n\\n\\n\\nWool\\n\\n\\n\\n\\nController\\n\\n\\n\\n\\n\\n\\n\\n\\n\\n\\n\\nCommunity\\n\\n \\n\\n\\n\\n\\nHelp\\n\\n\\n\\n\\n\\n\\n\\n\\n\\n \\n\\n \\n\\n \\n\\n\\n\\n\\n\\n\\n\\nFANDOM\\n\\n\\n \\n\\n\\n\\n\\n\\n\\n\\n\\n\\n\\n\\t\\t\\t\\tFan Central\\t\\t\\t\\n\\n\\t\\t\\t\\t\\tBETA\\t\\t\\t\\t\\n\\n\\n\\n\\n\\n\\n\\n\\n\\t\\t\\t\\tGames\\t\\t\\t\\n\\n\\n\\n\\n\\n\\n\\n\\n\\t\\t\\t\\tAnime\\t\\t\\t\\n\\n\\n\\n\\n\\n\\n\\n\\n\\t\\t\\t\\tMovies\\t\\t\\t\\n\\n\\n\\n\\n\\n\\n\\n\\n\\t\\t\\t\\tTV\\t\\t\\t\\n\\n\\n\\n\\n\\n\\n\\n\\n\\t\\t\\t\\tVideo\\t\\t\\t\\n\\n\\n\\n\\n\\n\\n\\n\\n\\n\\t\\t\\t\\t\\tWikis\\t\\t\\t\\t\\n\\n\\n\\n\\n\\n\\t\\t\\t\\t\\t\\t\\t\\tExplore Wikis\\t\\t\\t\\t\\t\\t\\t\\n\\n\\n\\n\\t\\t\\t\\t\\t\\t\\t\\tCommunity Central\\t\\t\\t\\t\\t\\t\\t\\n\\n\\n\\n\\n\\n\\n \\n\\n\\t\\t\\t\\tStart a Wiki\\t\\t\\t\\n\\n\\n\\n\\n\\n\\n\\n\\n \\n\\n\\n\\n\\tDon\\'t have an account?\\n\\n\\tRegister\\n\\n\\n\\tSign In \\n\\n\\n\\n\\n\\n\\n\\nAdvertisement\\n\\n\\n\\n\\n\\n\\t\\t\\tSign In\\t\\t\\n\\n\\t\\t\\tRegister\\t\\t\\n\\n\\n\\n\\n\\n\\n\\n\\n\\n\\t\\t\\t\\t\\tOnce Human Wiki\\t\\t\\t\\t\\n\\n\\n566pages \\n\\n\\n \\n\\n \\n\\n \\n\\n\\n\\n\\n\\n\\n\\n Explore\\n\\n \\n\\n\\n\\n\\n Main Page\\n\\n\\n\\n\\n Discuss\\n\\n\\n\\n\\nAll Pages\\n\\n\\n\\n\\nCommunity\\n\\n\\n\\n\\nInteractive Maps\\n\\n\\n\\n\\nRecent Blog Posts\\n\\n\\n\\n\\n\\n\\n\\n\\nWiki Content\\n\\n \\n\\n\\n\\n\\nRecently Changed Pages\\n \\n\\n\\n\\n\\nLonewolf\\'s Whisper\\n\\n\\n\\n\\nWeapons\\n\\n\\n\\n\\nStardust Ore\\n\\n\\n\\n\\nRainfall Reaper\\n\\n\\n\\n\\nBoss & Monsters\\n\\n\\n\\n\\nShrapnel Carnage\\n\\n\\n\\n\\nDeviations\\n\\n\\n\\n\\n\\n\\n\\nItem\\n \\n\\n\\n\\n\\nLog\\n\\n\\n\\n\\nGravel\\n\\n\\n\\n\\nSulfur\\n\\n\\n\\n\\nCopper Ore\\n\\n\\n\\n\\nTin Ore\\n\\n\\n\\n\\nIron Ore\\n\\n\\n\\n\\nCharcoal\\n\\n\\n\\n\\n\\n\\n\\nMaterials\\n \\n\\n\\n\\n\\nCharcoal\\n\\n\\n\\n\\nActivator\\n\\n\\n\\n\\nBoiled Water\\n\\n\\n\\n\\nAcid\\n\\n\\n\\n\\nStorage Battery\\n\\n\\n\\n\\nWool\\n\\n\\n\\n\\nController\\n\\n\\n\\n\\n\\n\\n\\n\\n\\n\\n\\nCommunity\\n\\n \\n\\n\\n\\n\\nHelp\\n\\n\\n\\n\\n\\n\\n\\n\\n\\n\\n\\n\\n\\n\\n \\n\\n \\n\\n\\n\\n\\n\\n\\nin:\\nLegendary, Tools, Craftable, \\t\\t\\t\\nand\\n3 more\\n\\n\\n\\nIntermediate Supplies Workbench \\n\\nAdvanced Supplies Workbench \\n\\nItem \\n\\n\\n\\n\\n\\n\\n\\n\\n\\nSolar Drill \\n\\n\\n\\n\\n \\n\\n\\t\\t\\t\\t\\t\\tEdit\\t\\t\\t\\t\\t\\n\\n\\n \\n\\n\\n\\n\\n\\t\\t\\t\\t\\t\\t\\t\\t\\t\\t\\tEdit source\\t\\t\\t\\t\\t\\t\\t\\t\\t\\t\\n\\n\\n\\n\\t\\t\\t\\t\\t\\t\\t\\t\\t\\t\\tHistory\\t\\t\\t\\t\\t\\t\\t\\t\\t\\t\\n\\n\\n\\n\\t\\t\\t\\t\\t\\t\\t\\t\\t\\t\\tTalk (0)\\t\\t\\t\\t\\t\\t\\t\\t\\t\\t\\n\\n\\n\\n\\n\\n\\n\\n\\n\\n\\n\\n\\n\\n\\n\\n\\n\\n\\n\\n\\n\\n\"An upgraded Electric Rock Drill that offers greatly increased Mining efficiency. It runs entirely on solar power.\"\\n\\nSolar Drill\\n\\n\\n\\n\\n\\n\\n\\nRarity\\nLegendary\\n\\n\\nType\\nTools\\n\\n\\nWeight\\n1.000\\n\\n\\nDurability\\n50\\n\\n\\n\\nHow To Get\\n\\nCrafted (Intermediate Supplies Workbench)Crafted (Advanced Supplies Workbench)\\n\\n\\n\\nContents\\n\\n1 Summary\\n2 How To Get\\n\\n2.1 Formulas\\n\\n\\n3 Tips\\n\\n\\n\\nSummary[]\\nThis tool makes Mining significantly easier, as it is capable of mining entire Aluminum and Tungsten Ore nodes in seconds.\\nThe Solar Drill charges itself on sunny days and the yields of Copper Ore, Tin Ore, Iron Ore, Aluminum Ore, and Tungsten Ore increase by 15% (Aluminum), 25% (Tungsten), and 40% (Gold) depending on the materials used.\\n\\nHow To Get[]\\nSolar Drills can be crafted on an Intermediate Supplies Workbench or Advanced Supplies Workbench.\\n\\nFormulas[]\\nIntermediate Supplies Workbench+Advanced Supplies Workbench20Aluminum Ingot20Special Part20Electronic Part20Metallic Fiber1Storage Battery\\nIntermediate Supplies Workbench+Advanced Supplies Workbench40Tungsten Ingot20Special Part20Electronic Part20Metallic Fiber1Storage Battery\\nIntermediate Supplies Workbench+Advanced Supplies Workbench60Gold Ore20Special Part20Electronic Part20Metallic Fiber1Storage Battery\\nTips[]\\nTo unlock the recipe for the Solar Drill, you must have the Memetic Specialization: Solar Drill.\\nCan be crafted at the Intermediate Supplies Workbench or Advanced Supplies Workbench.\\nTakes 60 seconds to craft.\\nWith the Memetic Specialization: Treasure Hunter, you can enjoy a +100% yield when mining for Gold Ore, Silver Ore, and Stardust Ore with an Electric Drill, which includes the Solar Drill.\\n\\n\\n\\n \\n\\n\\n\\n\\t\\t\\tCategories\\t\\t\\t \\n\\n\\n\\n\\nCategories: \\n\\nLegendary\\n\\n\\n\\nTools\\n\\n\\n\\nCraftable\\n\\n\\n\\nIntermediate Supplies Workbench\\n\\n\\n\\nAdvanced Supplies Workbench\\n\\n\\n\\nItem\\n\\n\\n\\nAdd category\\n\\n\\n\\n\\nCancel\\nSave\\n\\n\\n\\n\\n\\n\\t\\tCommunity content is available under CC-BY-SA unless otherwise noted.\\t\\n\\n\\n\\n\\n\\n\\n\\n\\n\\n\\n\\n\\n\\n\\nAdvertisement\\n\\n\\n\\n\\nFan Feed\\t\\t\\t\\n\\n\\n\\n\\nMore Once Human Wiki\\n\\n\\n\\n\\n1\\nStardust Ore\\n\\n\\n\\n\\n2\\nBlueprints\\n\\n\\n\\n\\n3\\nWeapons\\n\\n\\n\\n\\n\\n\\n\\n\\n\\n\\n\\n\\n\\n\\n\\n\\n\\n\\n\\n\\n\\n\\n\\n\\n\\n\\n\\n\\n\\n\\n\\nExplore properties\\n\\n\\n\\n\\t\\t\\t\\t\\t\\t\\t\\t\\t\\t\\t\\t\\tFandom\\t\\t\\t\\t\\t\\t\\t\\t\\t\\t\\t\\n\\n\\n\\n\\t\\t\\t\\t\\t\\t\\t\\t\\t\\t\\t\\t\\tMuthead\\t\\t\\t\\t\\t\\t\\t\\t\\t\\t\\t\\n\\n\\n\\n\\t\\t\\t\\t\\t\\t\\t\\t\\t\\t\\t\\t\\tFanatical\\t\\t\\t\\t\\t\\t\\t\\t\\t\\t\\t\\n\\n\\n\\n\\nFollow Us\\n\\n\\n\\n \\n\\n\\n\\n \\n\\n\\n\\n \\n\\n\\n\\n \\n\\n\\n\\n \\n\\n\\n\\n\\n\\n\\nOverview\\n\\n\\n\\n\\t\\t\\t\\t\\t\\t\\t\\t\\t\\t\\t\\t\\tWhat is Fandom?\\t\\t\\t\\t\\t\\t\\t\\t\\t\\t\\t\\n\\n\\n\\n\\t\\t\\t\\t\\t\\t\\t\\t\\t\\t\\t\\t\\tAbout\\t\\t\\t\\t\\t\\t\\t\\t\\t\\t\\t\\n\\n\\n\\n\\t\\t\\t\\t\\t\\t\\t\\t\\t\\t\\t\\t\\tCareers\\t\\t\\t\\t\\t\\t\\t\\t\\t\\t\\t\\n\\n\\n\\n\\t\\t\\t\\t\\t\\t\\t\\t\\t\\t\\t\\t\\tPress\\t\\t\\t\\t\\t\\t\\t\\t\\t\\t\\t\\n\\n\\n\\n\\t\\t\\t\\t\\t\\t\\t\\t\\t\\t\\t\\t\\tContact\\t\\t\\t\\t\\t\\t\\t\\t\\t\\t\\t\\n\\n\\n\\n\\t\\t\\t\\t\\t\\t\\t\\t\\t\\t\\t\\t\\tTerms of Use\\t\\t\\t\\t\\t\\t\\t\\t\\t\\t\\t\\n\\n\\n\\n\\t\\t\\t\\t\\t\\t\\t\\t\\t\\t\\t\\t\\tPrivacy Policy\\t\\t\\t\\t\\t\\t\\t\\t\\t\\t\\t\\n\\n\\n\\n\\t\\t\\t\\t\\t\\t\\t\\t\\t\\t\\t\\t\\tDigital Services Act\\t\\t\\t\\t\\t\\t\\t\\t\\t\\t\\t\\n\\n\\n\\n\\t\\t\\t\\t\\t\\t\\t\\t\\t\\t\\t\\t\\tGlobal Sitemap\\t\\t\\t\\t\\t\\t\\t\\t\\t\\t\\t\\n\\n\\n\\n\\t\\t\\t\\t\\t\\t\\t\\t\\t\\t\\t\\t\\tLocal Sitemap\\t\\t\\t\\t\\t\\t\\t\\t\\t\\t\\t\\n\\n\\n\\n\\t\\t\\t\\t\\t\\t\\t\\t\\t\\t\\t\\t\\tCookie Preferences\\t\\t\\t\\t\\t\\t\\t\\t\\t\\t\\t\\n\\n\\n\\n\\n\\n\\nCommunity\\n\\n\\n\\n\\t\\t\\t\\t\\t\\t\\t\\t\\t\\t\\t\\t\\tCommunity Central\\t\\t\\t\\t\\t\\t\\t\\t\\t\\t\\t\\n\\n\\n\\n\\t\\t\\t\\t\\t\\t\\t\\t\\t\\t\\t\\t\\tSupport\\t\\t\\t\\t\\t\\t\\t\\t\\t\\t\\t\\n\\n\\n\\n\\t\\t\\t\\t\\t\\t\\t\\t\\t\\t\\t\\t\\tHelp\\t\\t\\t\\t\\t\\t\\t\\t\\t\\t\\t\\n\\n\\n\\n\\t\\t\\t\\t\\t\\t\\t\\t\\t\\t\\t\\t\\tDo Not Sell or Share My Personal Information\\t\\t\\t\\t\\t\\t\\t\\t\\t\\t\\t\\n\\n\\n\\n\\nAdvertise\\n\\n\\n\\n\\t\\t\\t\\t\\t\\t\\t\\t\\t\\t\\t\\t\\tMedia Kit\\t\\t\\t\\t\\t\\t\\t\\t\\t\\t\\t\\n\\n\\n\\n\\t\\t\\t\\t\\t\\t\\t\\t\\t\\t\\t\\t\\tContact\\t\\t\\t\\t\\t\\t\\t\\t\\t\\t\\t\\n\\n\\n\\n\\n\\n\\nFandom Apps\\n\\t\\n\\t\\t\\tTake your favorite fandoms with you and never miss a beat.\\t\\n\\t\\n\\t\\n\\n\\n\\n\\n\\n\\n\\n\\n\\n\\n\\n\\n\\n\\n\\n\\n\\n\\nOnce Human Wiki is a FANDOM Lifestyle Community.\\n\\n\\n\\t\\t\\t\\t\\tView Mobile Site\\t\\t\\t\\t\\n\\n\\n\\n\\n\\n\\n\\n\\n\\nFollow on IG\\n\\n\\nTikTok\\n\\n\\nJoin Fan Lab\\n\\n\\n\\n \\n\\n\\n\\n\\n\\n\\n\\n\\n\\n\\n\\n\\n\\n\\n\\n\\n\\n\\n\\n\\n\\n\\n')]\n"
     ]
    }
   ],
   "source": [
    "from langchain_community.document_loaders import WebBaseLoader \n",
    "\n",
    "URLs = [\n",
    "    ### external information on different items in the game Once Human\n",
    "    \"https://once-human.fandom.com/wiki/Sanity_Gummy\",\n",
    "    \"https://once-human.fandom.com/wiki/Blueprints\", \n",
    "    \"https://once-human.fandom.com/wiki/Solar_Drill\"\n",
    "]\n",
    "\n",
    "loader = WebBaseLoader(URLs)\n",
    "\n",
    "data = loader.load()\n",
    "\n",
    "print(data)"
   ]
  },
  {
   "cell_type": "code",
   "execution_count": 4,
   "metadata": {},
   "outputs": [
    {
     "name": "stderr",
     "output_type": "stream",
     "text": [
      "Created a chunk of size 1044, which is longer than the specified 1024\n",
      "C:\\Users\\Usrer\\AppData\\Local\\Temp\\ipykernel_2504\\2353594618.py:12: LangChainDeprecationWarning: The class `HuggingFaceEmbeddings` was deprecated in LangChain 0.2.2 and will be removed in 1.0. An updated version of the class exists in the langchain-huggingface package and should be used instead. To use it run `pip install -U langchain-huggingface` and import as `from langchain_huggingface import HuggingFaceEmbeddings`.\n",
      "  embedding_function = SentenceTransformerEmbeddings(model_name=\"all-MiniLM-L6-v2\")\n",
      "c:\\Users\\Usrer\\Desktop\\Company Assessments\\MaiStorage\\venv\\lib\\site-packages\\transformers\\tokenization_utils_base.py:1601: FutureWarning: `clean_up_tokenization_spaces` was not set. It will be set to `True` by default. This behavior will be depracted in transformers v4.45, and will be then set to `False` by default. For more details check this issue: https://github.com/huggingface/transformers/issues/31884\n",
      "  warnings.warn(\n"
     ]
    }
   ],
   "source": [
    "### To do basic pre-processing and chunking for the documents \n",
    "\n",
    "from langchain_community.embeddings.sentence_transformer import SentenceTransformerEmbeddings\n",
    "from langchain_community.vectorstores import Chroma \n",
    "from langchain_text_splitters import CharacterTextSplitter\n",
    "\n",
    "# chunking \n",
    "text_splitter = CharacterTextSplitter(chunk_size=1024, chunk_overlap=0)\n",
    "docs = text_splitter.split_documents(data)\n",
    "\n",
    "# create embeddings with open-source functions\n",
    "embedding_function = SentenceTransformerEmbeddings(model_name=\"all-MiniLM-L6-v2\")\n",
    "\n",
    "# load it into Chroma, vector stores provided by langchain\n",
    "chroma_db = Chroma.from_documents(docs, embedding_function)"
   ]
  },
  {
   "cell_type": "code",
   "execution_count": 9,
   "metadata": {},
   "outputs": [],
   "source": [
    "### RAG Chain creation\n",
    "\n",
    "from langchain import hub \n",
    "from langchain_core.output_parsers import StrOutputParser\n",
    "from langchain_core.runnables import RunnablePassthrough\n",
    "\n",
    "# MMR similarity search uses Cosine Similarity to find the closest documents compared to the query & minimize redundancy in document selection\n",
    "retriever = chroma_db.as_retriever(search_type=\"mmr\", search_kwargs={'k': 5, 'fetch_k': 20 })\n",
    "# prompt = hub.pull('rlm/rag-prompt') # can refer above for the prompt template\n",
    "prompt = PromptTemplate.from_template(\"\"\"\n",
    "You are an assistant for question-answering tasks. Use the following pieces of retrieved context to answer the question. If you don't know the answer, just say that you don't know. Use three sentences maximum and keep the answer concise.\n",
    "Don't need to rephrase the question, just answer it directly.\n",
    "Question: {question} \n",
    "Context: {context} \n",
    "Answer:\n",
    "\"\"\")\n",
    "\n",
    "def format_docs(docs):\n",
    "    return \"\\n\\n\".join(doc.page_content for doc in docs)\n",
    "\n",
    "rag_chain = (\n",
    "    { \"context\": retriever | format_docs, \"question\": RunnablePassthrough() }\n",
    "    | prompt \n",
    "    | model\n",
    "    | StrOutputParser()\n",
    ")"
   ]
  },
  {
   "cell_type": "code",
   "execution_count": 10,
   "metadata": {},
   "outputs": [
    {
     "name": "stderr",
     "output_type": "stream",
     "text": [
      "Number of requested results 20 is greater than number of elements in index 16, updating n_results = 16\n"
     ]
    },
    {
     "data": {
      "text/plain": [
       "'Sanity Gummy is an item in the game Once Human. It can be acquired from certain higher-level loot drops. It can also be acquired from non-gameplay sources, such as account connections or events.'"
      ]
     },
     "execution_count": 10,
     "metadata": {},
     "output_type": "execute_result"
    }
   ],
   "source": [
    "query = 'What is sanity gummy in the game called Once Human?'\n",
    "\n",
    "rag_chain.invoke(query)"
   ]
  },
  {
   "cell_type": "code",
   "execution_count": 11,
   "metadata": {},
   "outputs": [
    {
     "name": "stderr",
     "output_type": "stream",
     "text": [
      "Number of requested results 20 is greater than number of elements in index 16, updating n_results = 16\n"
     ]
    },
    {
     "data": {
      "text/plain": [
       "'To craft Sanity Gummy in the game Once Human, you can craft it on a kitchen set with 1 water (pure or boiled) and 1 sugar.'"
      ]
     },
     "execution_count": 11,
     "metadata": {},
     "output_type": "execute_result"
    }
   ],
   "source": [
    "query = 'How to craft sanity gummy in the game called Once Human?'\n",
    "\n",
    "rag_chain.invoke(query)"
   ]
  },
  {
   "cell_type": "markdown",
   "metadata": {},
   "source": [
    "# Further Improvement"
   ]
  },
  {
   "cell_type": "markdown",
   "metadata": {},
   "source": [
    "### Make the model stores the memory of previous chat"
   ]
  },
  {
   "cell_type": "code",
   "execution_count": 17,
   "metadata": {},
   "outputs": [],
   "source": [
    "from langchain.memory import ConversationBufferMemory\n",
    "from langchain.chains import ConversationalRetrievalChain\n",
    "\n",
    "# Create a conversation buffer memory\n",
    "memory = ConversationBufferMemory(memory_key='chat_history', return_messages=True)\n",
    "\n",
    "# Define a custom template for the question prompt\n",
    "CHAT_HISTORY_TEMPLATE = \"\"\"Given the following conversation and a follow-up question, rephrase the follow-up question to be a standalone question, in its original English.\n",
    "                        Chat History:\n",
    "                        {chat_history}\n",
    "                        Follow-Up Input: {question}\n",
    "                        Standalone question:\"\"\"\n",
    "\n",
    "# Create a PromptTemplate from the custom template\n",
    "CH_PROMPT = PromptTemplate.from_template(CHAT_HISTORY_TEMPLATE)\n",
    "\n",
    "# Create a ConversationalRetrievalChain from an LLM with the specified components\n",
    "conversational_chain = ConversationalRetrievalChain.from_llm(\n",
    "    llm=model,\n",
    "    chain_type=\"stuff\",\n",
    "    retriever=chroma_db.as_retriever(),\n",
    "    memory=memory,\n",
    "    condense_question_prompt=CH_PROMPT\n",
    ")"
   ]
  },
  {
   "cell_type": "code",
   "execution_count": 18,
   "metadata": {},
   "outputs": [
    {
     "name": "stdout",
     "output_type": "stream",
     "text": [
      " According to the Once Human Wiki, Sanity Gummy is an item in the game. It is described as a consumable item that restores sanity.\n"
     ]
    }
   ],
   "source": [
    "response1 = conversational_chain.invoke({ 'question': 'What is sanity gummy in the game called Once Human?' })\n",
    "print(response1['answer'])"
   ]
  },
  {
   "cell_type": "code",
   "execution_count": 19,
   "metadata": {},
   "outputs": [
    {
     "name": "stdout",
     "output_type": "stream",
     "text": [
      "  You can craft Sanity Gummy in Once Human by using 1 water (pure or boiled) and 1 sugar on a kitchen set.\n"
     ]
    }
   ],
   "source": [
    "response2 = conversational_chain.invoke({ 'question': 'How to craft that item?' })\n",
    "print(response2['answer'])"
   ]
  },
  {
   "cell_type": "code",
   "execution_count": 20,
   "metadata": {},
   "outputs": [
    {
     "data": {
      "text/plain": [
       "{'question': 'What is sanity gummy in the game called Once Human?',\n",
       " 'chat_history': [HumanMessage(content='What is sanity gummy in the game called Once Human?'),\n",
       "  AIMessage(content=' According to the Once Human Wiki, Sanity Gummy is an item in the game. It is described as a consumable item that restores sanity.'),\n",
       "  HumanMessage(content='How to craft that item?'),\n",
       "  AIMessage(content='  You can craft Sanity Gummy in Once Human by using 1 water (pure or boiled) and 1 sugar on a kitchen set.')],\n",
       " 'answer': ' According to the Once Human Wiki, Sanity Gummy is an item in the game. It is described as a consumable item that restores sanity.'}"
      ]
     },
     "execution_count": 20,
     "metadata": {},
     "output_type": "execute_result"
    }
   ],
   "source": [
    "response1"
   ]
  },
  {
   "cell_type": "code",
   "execution_count": 21,
   "metadata": {},
   "outputs": [
    {
     "data": {
      "text/plain": [
       "{'question': 'How to craft that item?',\n",
       " 'chat_history': [HumanMessage(content='What is sanity gummy in the game called Once Human?'),\n",
       "  AIMessage(content=' According to the Once Human Wiki, Sanity Gummy is an item in the game. It is described as a consumable item that restores sanity.'),\n",
       "  HumanMessage(content='How to craft that item?'),\n",
       "  AIMessage(content='  You can craft Sanity Gummy in Once Human by using 1 water (pure or boiled) and 1 sugar on a kitchen set.')],\n",
       " 'answer': '  You can craft Sanity Gummy in Once Human by using 1 water (pure or boiled) and 1 sugar on a kitchen set.'}"
      ]
     },
     "execution_count": 21,
     "metadata": {},
     "output_type": "execute_result"
    }
   ],
   "source": [
    "response2"
   ]
  },
  {
   "cell_type": "markdown",
   "metadata": {},
   "source": [
    "# Future Enhancements\n",
    "\n",
    "1. If we already have our own web scraping system (or data collection system), we can build our own `WebBaseLoader` that loads the input text and turn them into `Document` object in `LangChain`. This allows no changes required on the existing system. \n",
    "2. To persist the data store in `ChromaDB`, we can configure `persist_directory` by initializing a new `Chroma` object. Then, calling `from_documents()` on that object allows us to persist the vector data in the directory specified. \n",
    "3. Can check out [FlashRank reranker](https://python.langchain.com/v0.2/docs/integrations/retrievers/flashrank-reranker/) for ReRank operation in common Advanced RAG pipeline. Since this project is on small-scale, this is not implemented.\n",
    "4. Can try using cloud vector stores like `Pinecone` for better scalability."
   ]
  },
  {
   "cell_type": "code",
   "execution_count": null,
   "metadata": {},
   "outputs": [],
   "source": []
  },
  {
   "cell_type": "markdown",
   "metadata": {},
   "source": [
    "# Appendices"
   ]
  },
  {
   "cell_type": "markdown",
   "metadata": {},
   "source": [
    "### Updated way of writing conversational RAG model\n",
    "\n",
    "References: [Add chat history](https://python.langchain.com/v0.1/docs/use_cases/question_answering/chat_history/)"
   ]
  },
  {
   "cell_type": "code",
   "execution_count": 2,
   "metadata": {},
   "outputs": [
    {
     "name": "stderr",
     "output_type": "stream",
     "text": [
      "USER_AGENT environment variable not set, consider setting it to identify your requests.\n",
      "Created a chunk of size 1044, which is longer than the specified 1024\n",
      "Created a chunk of size 1031, which is longer than the specified 1024\n"
     ]
    },
    {
     "name": "stdout",
     "output_type": "stream",
     "text": [
      "[Document(metadata={'source': 'https://once-human.fandom.com/wiki/Sanity_Gummy', 'title': 'Sanity Gummy | Once Human Wiki | Fandom', 'description': '\"A placebo that contains sugar to balance its bitter taste. Calling it \\'candy\\' is just a bitter joke.\"[1] This item can be crafted on a kitchen set with 1 water (pure or boiled) and 1 sugar This item can be acquired from certain higher-level loot drops. It can also be acquired from non-gameplay...', 'language': 'en'}, page_content='\\n\\n\\n\\nSanity Gummy | Once Human Wiki | Fandom\\n\\n\\n\\n\\n\\n\\n\\n\\n\\n\\n\\n\\n\\n\\n\\n\\n\\n\\n\\n\\n\\n\\n\\n\\n\\n\\n\\n\\n\\n\\n\\n\\n\\n\\n\\n\\n\\n\\n\\n\\n\\n\\n\\n\\n\\n\\n\\n\\nOnce Human Wiki\\n\\n\\n\\n\\n\\n Explore\\n\\n \\n\\n\\n\\n\\n Main Page\\n\\n\\n\\n\\n Discuss\\n\\n\\n\\n\\nAll Pages\\n\\n\\n\\n\\nCommunity\\n\\n\\n\\n\\nInteractive Maps\\n\\n\\n\\n\\nRecent Blog Posts\\n\\n\\n\\n\\n\\n\\n\\n\\nWiki Content\\n\\n \\n\\n\\n\\n\\nRecently Changed Pages\\n \\n\\n\\n\\n\\nLonewolf\\'s Whisper\\n\\n\\n\\n\\nShattered Maiden\\n\\n\\n\\n\\nStrange Door\\n\\n\\n\\n\\nButterfly\\'s Emissary\\n\\n\\n\\n\\nIn The Tall Grass\\n\\n\\n\\n\\nKlein Warren\\n\\n\\n\\n\\nMasonic Pyramid\\n\\n\\n\\n\\n\\n\\n\\nItem\\n \\n\\n\\n\\n\\nLog\\n\\n\\n\\n\\nGravel\\n\\n\\n\\n\\nSulfur\\n\\n\\n\\n\\nCopper Ore\\n\\n\\n\\n\\nTin Ore\\n\\n\\n\\n\\nIron Ore\\n\\n\\n\\n\\nCharcoal\\n\\n\\n\\n\\n\\n\\n\\nMaterials\\n \\n\\n\\n\\n\\nCharcoal\\n\\n\\n\\n\\nActivator\\n\\n\\n\\n\\nBoiled Water\\n\\n\\n\\n\\nAcid\\n\\n\\n\\n\\nStorage Battery\\n\\n\\n\\n\\nWool\\n\\n\\n\\n\\nController\\n\\n\\n\\n\\n\\n\\n\\n\\n\\n\\n\\nCommunity\\n\\n \\n\\n\\n\\n\\nHelp\\n\\n\\n\\n\\n\\n\\n\\n\\n\\n \\n\\n \\n\\n \\n\\n\\n\\n\\n\\n\\n\\nFANDOM\\n\\n\\n \\n\\n\\n\\n\\n\\n\\n\\n\\n\\n\\n\\t\\t\\t\\tFan Central\\t\\t\\t\\n\\n\\t\\t\\t\\t\\tBETA\\t\\t\\t\\t\\n\\n\\n\\n\\n\\n\\n\\n\\n\\t\\t\\t\\tGames\\t\\t\\t\\n\\n\\n\\n\\n\\n\\n\\n\\n\\t\\t\\t\\tAnime\\t\\t\\t\\n\\n\\n\\n\\n\\n\\n\\n\\n\\t\\t\\t\\tMovies\\t\\t\\t\\n\\n\\n\\n\\n\\n\\n\\n\\n\\t\\t\\t\\tTV\\t\\t\\t\\n\\n\\n\\n\\n\\n\\n\\n\\n\\t\\t\\t\\tVideo\\t\\t\\t\\n\\n\\n\\n\\n\\n\\n\\n\\n\\n\\t\\t\\t\\t\\tWikis\\t\\t\\t\\t\\n\\n\\n\\n\\n\\n\\t\\t\\t\\t\\t\\t\\t\\tExplore Wikis\\t\\t\\t\\t\\t\\t\\t\\n\\n\\n\\n\\t\\t\\t\\t\\t\\t\\t\\tCommunity Central\\t\\t\\t\\t\\t\\t\\t\\n\\n\\n\\n\\n\\n\\n \\n\\n\\t\\t\\t\\tStart a Wiki\\t\\t\\t\\n\\n\\n\\n\\n\\n\\n\\n\\n \\n\\n\\n\\n\\tDon\\'t have an account?\\n\\n\\tRegister\\n\\n\\n\\tSign In \\n\\n\\n\\n\\n\\n\\n\\nAdvertisement\\n\\n\\n\\n\\n\\n\\t\\t\\tSign In\\t\\t\\n\\n\\t\\t\\tRegister\\t\\t\\n\\n\\n\\n\\n\\n\\n\\n\\n\\n\\t\\t\\t\\t\\tOnce Human Wiki\\t\\t\\t\\t\\n\\n\\n577pages \\n\\n\\n \\n\\n \\n\\n \\n\\n\\n\\n\\n\\n\\n\\n Explore\\n\\n \\n\\n\\n\\n\\n Main Page\\n\\n\\n\\n\\n Discuss\\n\\n\\n\\n\\nAll Pages\\n\\n\\n\\n\\nCommunity\\n\\n\\n\\n\\nInteractive Maps\\n\\n\\n\\n\\nRecent Blog Posts\\n\\n\\n\\n\\n\\n\\n\\n\\nWiki Content\\n\\n \\n\\n\\n\\n\\nRecently Changed Pages\\n \\n\\n\\n\\n\\nLonewolf\\'s Whisper\\n\\n\\n\\n\\nShattered Maiden\\n\\n\\n\\n\\nStrange Door\\n\\n\\n\\n\\nButterfly\\'s Emissary\\n\\n\\n\\n\\nIn The Tall Grass\\n\\n\\n\\n\\nKlein Warren\\n\\n\\n\\n\\nMasonic Pyramid\\n\\n\\n\\n\\n\\n\\n\\nItem\\n \\n\\n\\n\\n\\nLog\\n\\n\\n\\n\\nGravel\\n\\n\\n\\n\\nSulfur\\n\\n\\n\\n\\nCopper Ore\\n\\n\\n\\n\\nTin Ore\\n\\n\\n\\n\\nIron Ore\\n\\n\\n\\n\\nCharcoal\\n\\n\\n\\n\\n\\n\\n\\nMaterials\\n \\n\\n\\n\\n\\nCharcoal\\n\\n\\n\\n\\nActivator\\n\\n\\n\\n\\nBoiled Water\\n\\n\\n\\n\\nAcid\\n\\n\\n\\n\\nStorage Battery\\n\\n\\n\\n\\nWool\\n\\n\\n\\n\\nController\\n\\n\\n\\n\\n\\n\\n\\n\\n\\n\\n\\nCommunity\\n\\n \\n\\n\\n\\n\\nHelp\\n\\n\\n\\n\\n\\n\\n\\n\\n\\n\\n\\n\\n\\n\\n \\n\\n \\n\\n\\n\\n\\n\\n\\nin:\\nRare, Consumable, Craftable, \\t\\t\\t\\nand\\n2 more\\n\\n\\n\\nKitchen \\n\\nItem \\n\\n\\n\\n\\n\\n\\n\\n\\n\\nSanity Gummy \\n\\n\\n\\n\\n \\n\\n\\t\\t\\t\\t\\t\\tEdit\\t\\t\\t\\t\\t\\n\\n\\n \\n\\n\\n\\n\\n\\t\\t\\t\\t\\t\\t\\t\\t\\t\\t\\tEdit source\\t\\t\\t\\t\\t\\t\\t\\t\\t\\t\\n\\n\\n\\n\\t\\t\\t\\t\\t\\t\\t\\t\\t\\t\\tHistory\\t\\t\\t\\t\\t\\t\\t\\t\\t\\t\\n\\n\\n\\n\\t\\t\\t\\t\\t\\t\\t\\t\\t\\t\\tTalk (0)\\t\\t\\t\\t\\t\\t\\t\\t\\t\\t\\n\\n\\n\\n\\n\\n\\n\\n\\n\\n\\n\\n\\n\\n\\n\\n\\n\\n\\n\\n\\n\\n\"A placebo that contains sugar to balance its bitter taste. Calling it \\'candy\\' is just a bitter joke.\"[1]\\n\\n\\nSanity Gummy\\n\\n\\n\\n\\n\\n\\n\\nRarity\\nRare\\n\\n\\nType\\nConsumable\\n\\n\\nWeight\\n0.010\\n\\n\\nStack Size\\n100\\n\\n\\n\\nStatus/Effects\\n\\nSanity\\n+500\\n\\n\\n\\nHow To Get\\n\\nCrafted (Kitchen Set)\\n\\n\\n\\nContents\\n\\n1 How To Get\\n\\n1.1 Kitchen Set Formula\\n1.2 Lootable\\n\\n\\n\\n\\n\\nHow To Get[]\\nKitchen Set Formula[]\\nThis item can be crafted on a kitchen set with 1 water (pure or boiled) and 1 sugar\\n\\nLootable[]\\nThis item can be acquired from certain higher-level loot drops. It can also be acquired from non-gameplay sources, such as account connections or events.\\n\\n\\n↑ In-game description\\n\\n\\n\\n\\n\\n \\n\\n\\n\\n\\t\\t\\tCategories\\t\\t\\t \\n\\n\\n\\n\\nCategories: \\n\\nRare\\n\\n\\n\\nConsumable\\n\\n\\n\\nCraftable\\n\\n\\n\\nKitchen\\n\\n\\n\\nItem\\n\\n\\n\\nAdd category\\n\\n\\n\\n\\nCancel\\nSave\\n\\n\\n\\n\\n\\n\\t\\tCommunity content is available under CC-BY-SA unless otherwise noted.\\t\\n\\n\\n\\n\\n\\n\\n\\n\\n\\n\\n\\n\\n\\n\\nAdvertisement\\n\\n\\n\\n\\n\\n\\n\\n\\n\\n\\n\\nExplore properties\\n\\n\\n\\n\\t\\t\\t\\t\\t\\t\\t\\t\\t\\t\\t\\t\\tFandom\\t\\t\\t\\t\\t\\t\\t\\t\\t\\t\\t\\n\\n\\n\\n\\t\\t\\t\\t\\t\\t\\t\\t\\t\\t\\t\\t\\tMuthead\\t\\t\\t\\t\\t\\t\\t\\t\\t\\t\\t\\n\\n\\n\\n\\t\\t\\t\\t\\t\\t\\t\\t\\t\\t\\t\\t\\tFanatical\\t\\t\\t\\t\\t\\t\\t\\t\\t\\t\\t\\n\\n\\n\\n\\nFollow Us\\n\\n\\n\\n \\n\\n\\n\\n \\n\\n\\n\\n \\n\\n\\n\\n \\n\\n\\n\\n \\n\\n\\n\\n\\n\\n\\nOverview\\n\\n\\n\\n\\t\\t\\t\\t\\t\\t\\t\\t\\t\\t\\t\\t\\tWhat is Fandom?\\t\\t\\t\\t\\t\\t\\t\\t\\t\\t\\t\\n\\n\\n\\n\\t\\t\\t\\t\\t\\t\\t\\t\\t\\t\\t\\t\\tAbout\\t\\t\\t\\t\\t\\t\\t\\t\\t\\t\\t\\n\\n\\n\\n\\t\\t\\t\\t\\t\\t\\t\\t\\t\\t\\t\\t\\tCareers\\t\\t\\t\\t\\t\\t\\t\\t\\t\\t\\t\\n\\n\\n\\n\\t\\t\\t\\t\\t\\t\\t\\t\\t\\t\\t\\t\\tPress\\t\\t\\t\\t\\t\\t\\t\\t\\t\\t\\t\\n\\n\\n\\n\\t\\t\\t\\t\\t\\t\\t\\t\\t\\t\\t\\t\\tContact\\t\\t\\t\\t\\t\\t\\t\\t\\t\\t\\t\\n\\n\\n\\n\\t\\t\\t\\t\\t\\t\\t\\t\\t\\t\\t\\t\\tTerms of Use\\t\\t\\t\\t\\t\\t\\t\\t\\t\\t\\t\\n\\n\\n\\n\\t\\t\\t\\t\\t\\t\\t\\t\\t\\t\\t\\t\\tPrivacy Policy\\t\\t\\t\\t\\t\\t\\t\\t\\t\\t\\t\\n\\n\\n\\n\\t\\t\\t\\t\\t\\t\\t\\t\\t\\t\\t\\t\\tDigital Services Act\\t\\t\\t\\t\\t\\t\\t\\t\\t\\t\\t\\n\\n\\n\\n\\t\\t\\t\\t\\t\\t\\t\\t\\t\\t\\t\\t\\tGlobal Sitemap\\t\\t\\t\\t\\t\\t\\t\\t\\t\\t\\t\\n\\n\\n\\n\\t\\t\\t\\t\\t\\t\\t\\t\\t\\t\\t\\t\\tLocal Sitemap\\t\\t\\t\\t\\t\\t\\t\\t\\t\\t\\t\\n\\n\\n\\n\\t\\t\\t\\t\\t\\t\\t\\t\\t\\t\\t\\t\\tCookie Preferences\\t\\t\\t\\t\\t\\t\\t\\t\\t\\t\\t\\n\\n\\n\\n\\n\\n\\nCommunity\\n\\n\\n\\n\\t\\t\\t\\t\\t\\t\\t\\t\\t\\t\\t\\t\\tCommunity Central\\t\\t\\t\\t\\t\\t\\t\\t\\t\\t\\t\\n\\n\\n\\n\\t\\t\\t\\t\\t\\t\\t\\t\\t\\t\\t\\t\\tSupport\\t\\t\\t\\t\\t\\t\\t\\t\\t\\t\\t\\n\\n\\n\\n\\t\\t\\t\\t\\t\\t\\t\\t\\t\\t\\t\\t\\tHelp\\t\\t\\t\\t\\t\\t\\t\\t\\t\\t\\t\\n\\n\\n\\n\\t\\t\\t\\t\\t\\t\\t\\t\\t\\t\\t\\t\\tDo Not Sell or Share My Personal Information\\t\\t\\t\\t\\t\\t\\t\\t\\t\\t\\t\\n\\n\\n\\n\\nAdvertise\\n\\n\\n\\n\\t\\t\\t\\t\\t\\t\\t\\t\\t\\t\\t\\t\\tMedia Kit\\t\\t\\t\\t\\t\\t\\t\\t\\t\\t\\t\\n\\n\\n\\n\\t\\t\\t\\t\\t\\t\\t\\t\\t\\t\\t\\t\\tContact\\t\\t\\t\\t\\t\\t\\t\\t\\t\\t\\t\\n\\n\\n\\n\\n\\n\\nFandom Apps\\n\\t\\n\\t\\t\\tTake your favorite fandoms with you and never miss a beat.\\t\\n\\t\\n\\t\\n\\n\\n\\n\\n\\n\\n\\n\\n\\n\\n\\n\\n\\n\\n\\n\\n\\n\\nOnce Human Wiki is a FANDOM Lifestyle Community.\\n\\n\\n\\t\\t\\t\\t\\tView Mobile Site\\t\\t\\t\\t\\n\\n\\n\\n\\n\\n\\n\\n\\n\\nFollow on IG\\n\\n\\nTikTok\\n\\n\\nJoin Fan Lab\\n\\n\\n\\n \\n\\n\\n\\n\\n\\n\\n\\n\\n\\n\\n\\n\\n\\n\\n\\n\\n\\n\\n\\n\\n\\n\\n'), Document(metadata={'source': 'https://once-human.fandom.com/wiki/Blueprints', 'title': 'Blueprints | Once Human Wiki | Fandom', 'description': 'Blueprints allow you to craft weapons or armor you can acquire them through your Cradle Memetics menu unlocking basic blueprints or through Fusing Blueprint Fragments into a complete Blueprint. Blueprint Fragments can be found in Mysterious chests. Also in the wish machine which at this moment...', 'language': 'en'}, page_content=\"\\n\\n\\n\\nBlueprints | Once Human Wiki | Fandom\\n\\n\\n\\n\\n\\n\\n\\n\\n\\n\\n\\n\\n\\n\\n\\n\\n\\n\\n\\n\\n\\n\\n\\n\\n\\n\\n\\n\\n\\n\\n\\n\\n\\n\\n\\n\\n\\n\\n\\n\\n\\n\\n\\n\\n\\n\\n\\n\\nOnce Human Wiki\\n\\n\\n\\n\\n\\n Explore\\n\\n \\n\\n\\n\\n\\n Main Page\\n\\n\\n\\n\\n Discuss\\n\\n\\n\\n\\nAll Pages\\n\\n\\n\\n\\nCommunity\\n\\n\\n\\n\\nInteractive Maps\\n\\n\\n\\n\\nRecent Blog Posts\\n\\n\\n\\n\\n\\n\\n\\n\\nWiki Content\\n\\n \\n\\n\\n\\n\\nRecently Changed Pages\\n \\n\\n\\n\\n\\nLonewolf's Whisper\\n\\n\\n\\n\\nShattered Maiden\\n\\n\\n\\n\\nStrange Door\\n\\n\\n\\n\\nButterfly's Emissary\\n\\n\\n\\n\\nIn The Tall Grass\\n\\n\\n\\n\\nKlein Warren\\n\\n\\n\\n\\nMasonic Pyramid\\n\\n\\n\\n\\n\\n\\n\\nItem\\n \\n\\n\\n\\n\\nLog\\n\\n\\n\\n\\nGravel\\n\\n\\n\\n\\nSulfur\\n\\n\\n\\n\\nCopper Ore\\n\\n\\n\\n\\nTin Ore\\n\\n\\n\\n\\nIron Ore\\n\\n\\n\\n\\nCharcoal\\n\\n\\n\\n\\n\\n\\n\\nMaterials\\n \\n\\n\\n\\n\\nCharcoal\\n\\n\\n\\n\\nActivator\\n\\n\\n\\n\\nBoiled Water\\n\\n\\n\\n\\nAcid\\n\\n\\n\\n\\nStorage Battery\\n\\n\\n\\n\\nWool\\n\\n\\n\\n\\nController\\n\\n\\n\\n\\n\\n\\n\\n\\n\\n\\n\\nCommunity\\n\\n \\n\\n\\n\\n\\nHelp\\n\\n\\n\\n\\n\\n\\n\\n\\n\\n \\n\\n \\n\\n \\n\\n\\n\\n\\n\\n\\n\\nFANDOM\\n\\n\\n \\n\\n\\n\\n\\n\\n\\n\\n\\n\\n\\n\\t\\t\\t\\tFan Central\\t\\t\\t\\n\\n\\t\\t\\t\\t\\tBETA\\t\\t\\t\\t\\n\\n\\n\\n\\n\\n\\n\\n\\n\\t\\t\\t\\tGames\\t\\t\\t\\n\\n\\n\\n\\n\\n\\n\\n\\n\\t\\t\\t\\tAnime\\t\\t\\t\\n\\n\\n\\n\\n\\n\\n\\n\\n\\t\\t\\t\\tMovies\\t\\t\\t\\n\\n\\n\\n\\n\\n\\n\\n\\n\\t\\t\\t\\tTV\\t\\t\\t\\n\\n\\n\\n\\n\\n\\n\\n\\n\\t\\t\\t\\tVideo\\t\\t\\t\\n\\n\\n\\n\\n\\n\\n\\n\\n\\n\\t\\t\\t\\t\\tWikis\\t\\t\\t\\t\\n\\n\\n\\n\\n\\n\\t\\t\\t\\t\\t\\t\\t\\tExplore Wikis\\t\\t\\t\\t\\t\\t\\t\\n\\n\\n\\n\\t\\t\\t\\t\\t\\t\\t\\tCommunity Central\\t\\t\\t\\t\\t\\t\\t\\n\\n\\n\\n\\n\\n\\n \\n\\n\\t\\t\\t\\tStart a Wiki\\t\\t\\t\\n\\n\\n\\n\\n\\n\\n\\n\\n \\n\\n\\n\\n\\tDon't have an account?\\n\\n\\tRegister\\n\\n\\n\\tSign In \\n\\n\\n\\n\\n\\n\\n\\nAdvertisement\\n\\n\\n\\n\\n\\n\\t\\t\\tSign In\\t\\t\\n\\n\\t\\t\\tRegister\\t\\t\\n\\n\\n\\n\\n\\n\\n\\n\\n\\n\\t\\t\\t\\t\\tOnce Human Wiki\\t\\t\\t\\t\\n\\n\\n577pages \\n\\n\\n \\n\\n \\n\\n \\n\\n\\n\\n\\n\\n\\n\\n Explore\\n\\n \\n\\n\\n\\n\\n Main Page\\n\\n\\n\\n\\n Discuss\\n\\n\\n\\n\\nAll Pages\\n\\n\\n\\n\\nCommunity\\n\\n\\n\\n\\nInteractive Maps\\n\\n\\n\\n\\nRecent Blog Posts\\n\\n\\n\\n\\n\\n\\n\\n\\nWiki Content\\n\\n \\n\\n\\n\\n\\nRecently Changed Pages\\n \\n\\n\\n\\n\\nLonewolf's Whisper\\n\\n\\n\\n\\nShattered Maiden\\n\\n\\n\\n\\nStrange Door\\n\\n\\n\\n\\nButterfly's Emissary\\n\\n\\n\\n\\nIn The Tall Grass\\n\\n\\n\\n\\nKlein Warren\\n\\n\\n\\n\\nMasonic Pyramid\\n\\n\\n\\n\\n\\n\\n\\nItem\\n \\n\\n\\n\\n\\nLog\\n\\n\\n\\n\\nGravel\\n\\n\\n\\n\\nSulfur\\n\\n\\n\\n\\nCopper Ore\\n\\n\\n\\n\\nTin Ore\\n\\n\\n\\n\\nIron Ore\\n\\n\\n\\n\\nCharcoal\\n\\n\\n\\n\\n\\n\\n\\nMaterials\\n \\n\\n\\n\\n\\nCharcoal\\n\\n\\n\\n\\nActivator\\n\\n\\n\\n\\nBoiled Water\\n\\n\\n\\n\\nAcid\\n\\n\\n\\n\\nStorage Battery\\n\\n\\n\\n\\nWool\\n\\n\\n\\n\\nController\\n\\n\\n\\n\\n\\n\\n\\n\\n\\n\\n\\nCommunity\\n\\n \\n\\n\\n\\n\\nHelp\\n\\n\\n\\n\\n\\n\\n\\n\\n\\n\\n\\n\\n\\n\\n \\n\\n \\n\\n\\n\\n\\n\\n\\nin:\\nSword, Weapons \\n\\n\\n\\n\\n\\t\\t\\tEnglish \\n\\n\\n\\nРусский\\n\\n\\n\\n\\n\\n\\n\\n\\n\\nBlueprints \\n\\n\\n\\n\\n \\n\\n\\t\\t\\t\\t\\t\\tEdit\\t\\t\\t\\t\\t\\n\\n\\n \\n\\n\\n\\n\\n\\t\\t\\t\\t\\t\\t\\t\\t\\t\\t\\tEdit source\\t\\t\\t\\t\\t\\t\\t\\t\\t\\t\\n\\n\\n\\n\\t\\t\\t\\t\\t\\t\\t\\t\\t\\t\\tHistory\\t\\t\\t\\t\\t\\t\\t\\t\\t\\t\\n\\n\\n\\n\\t\\t\\t\\t\\t\\t\\t\\t\\t\\t\\tTalk (0)\\t\\t\\t\\t\\t\\t\\t\\t\\t\\t\\n\\n\\n\\n\\n\\n\\n\\n\\n\\n\\n\\n\\n\\n\\n\\n\\n\\n\\n\\n\\n\\n    Meta has been replaced with Beyonder  \\nBlueprints[]\\nBlueprints allow you to craft weapons or armor you can acquire them through your Cradle Memetics menu unlocking basic blueprints or through Fusing Blueprint Fragments into a complete Blueprint. Blueprint Fragments can be found in Mysterious chests. Also in the wish machine which at this moment (excluding the grenade launcher in the memetics menu) is the only way to unlock Gold rarity Blueprints.\\nThere are 4 rarity levels (at this time) Green, Blue, Purple, and Gold. \\nTo fuse a complete Weapon Blueprint you need 40 Fragments for a blue Blueprint, 60 Fragments for a Purple Blueprint, and 80 for a Gold Blueprint.  \\nTo fuse Armor Blueprints you need 10 Fragments for a blue Blueprint, 15 Fragments for a Purple Blueprint, and 20 for a Gold Blueprint. Unlike with weapons each piece of an armor set has it's own blueprint which explains the cheaper price to fuse since most sets have 6 pieces.\\nThere are more Fragments out in the world to be found than just enough to fuse a Blueprint.\\n\\nBlueprint Enhancement Rank[]\\n     \\nBlueprints can be Enhanced using Blueprint Fragments to increase the rank of the blueprint increasing the starting stats of the weapon or armor. Each rarity of blueprint can be enhanced to different level of rank. Green has 3 ranks, Blue has 4 ranks, Purple has 5 ranks, and Gold has 6 ranks. To enhance a Blueprint you need either Fragments from the same blueprint or other blueprint fragments from the same category. There are 6 categories Hunter, Wanderer, Operator, Juggernaut, Beyonder, and Stranger.\\nUnlike when fusing it takes exp points to enhance points rather than just a number of fragments, however each type of fragment is worth different amounts of Exp and each rank of enhancement costs more Exp to complete the enhancement. Fragments for the same blueprint are worth more point same with different blueprints of a higher rarity, while different blueprints of a lower quality will require many more to finish an enhancement.\\n\\nArmor Set Blueprints[]\\n     \\nThe table below displays Armor Blueprints with Set Effects available.\\n\\n\\n\\nSet Name\\n\\nHighest Blueprint Rank Available\\n\\nSlots Available\\n\\nSet Effect (1pc)\\n\\nSet Effect (2pc)\\n\\nSet Effect (3pc)\\n\\nSet Effect (4pc)\\n\\nHow to Obtain\\n\\n\\nRenegade\\n\\nLegendary\\n\\n\\nHood\\nJacket\\nPants\\nShoes\\nGloves\\nMask\\n\\nReload Speed +15.0%\\n\\nWeakspot DMG +10.0%\\n\\nHitting the same enemy consecutively grants 1 stack of Archer's Focus, increasing Weakspot DMG by 4%, up to 10 stacks. Archer's Focus stacks are halved when the target is changed.\\n\\nAfter reloading, for every 1% of weakspot hit from the previous magazine, load an extra 0.6% bullets, up to 30%\\n\\nWish Machine (3000 Starchrom each)\\n\\n\\n\\n\\n \\n\\n\\n\\n\\t\\t\\tCategories\\t\\t\\t \\n\\n\\n\\n\\nCategories: \\n\\nSword\\n\\n\\n\\nWeapons\\n\\n\\n\\nAdd category\\n\\n\\n\\n\\nCancel\\nSave\\n\\n\\n\\n\\n\\n\\n\\t\\t\\tLanguages\\t\\t\\t \\n\\nРусский\\n\\n\\n\\n\\t\\tCommunity content is available under CC-BY-SA unless otherwise noted.\\t\\n\\n\\n\\n\\n\\n\\n\\n\\n\\n\\n\\n\\n\\n\\nAdvertisement\\n\\n\\n\\n\\nFan Feed\\t\\t\\t\\n\\n\\n\\n\\nMore Once Human Wiki\\n\\n\\n\\n\\n1\\nStardust Ore\\n\\n\\n\\n\\n2\\nBlueprints\\n\\n\\n\\n\\n3\\nImpure Acid\\n\\n\\n\\n\\n\\n\\n\\n\\n\\n\\n\\n\\n\\n\\n\\n\\n\\n\\n\\n\\n\\n\\n\\n\\n\\n\\n\\n\\n\\n\\n\\nExplore properties\\n\\n\\n\\n\\t\\t\\t\\t\\t\\t\\t\\t\\t\\t\\t\\t\\tFandom\\t\\t\\t\\t\\t\\t\\t\\t\\t\\t\\t\\n\\n\\n\\n\\t\\t\\t\\t\\t\\t\\t\\t\\t\\t\\t\\t\\tMuthead\\t\\t\\t\\t\\t\\t\\t\\t\\t\\t\\t\\n\\n\\n\\n\\t\\t\\t\\t\\t\\t\\t\\t\\t\\t\\t\\t\\tFanatical\\t\\t\\t\\t\\t\\t\\t\\t\\t\\t\\t\\n\\n\\n\\n\\nFollow Us\\n\\n\\n\\n \\n\\n\\n\\n \\n\\n\\n\\n \\n\\n\\n\\n \\n\\n\\n\\n \\n\\n\\n\\n\\n\\n\\nOverview\\n\\n\\n\\n\\t\\t\\t\\t\\t\\t\\t\\t\\t\\t\\t\\t\\tWhat is Fandom?\\t\\t\\t\\t\\t\\t\\t\\t\\t\\t\\t\\n\\n\\n\\n\\t\\t\\t\\t\\t\\t\\t\\t\\t\\t\\t\\t\\tAbout\\t\\t\\t\\t\\t\\t\\t\\t\\t\\t\\t\\n\\n\\n\\n\\t\\t\\t\\t\\t\\t\\t\\t\\t\\t\\t\\t\\tCareers\\t\\t\\t\\t\\t\\t\\t\\t\\t\\t\\t\\n\\n\\n\\n\\t\\t\\t\\t\\t\\t\\t\\t\\t\\t\\t\\t\\tPress\\t\\t\\t\\t\\t\\t\\t\\t\\t\\t\\t\\n\\n\\n\\n\\t\\t\\t\\t\\t\\t\\t\\t\\t\\t\\t\\t\\tContact\\t\\t\\t\\t\\t\\t\\t\\t\\t\\t\\t\\n\\n\\n\\n\\t\\t\\t\\t\\t\\t\\t\\t\\t\\t\\t\\t\\tTerms of Use\\t\\t\\t\\t\\t\\t\\t\\t\\t\\t\\t\\n\\n\\n\\n\\t\\t\\t\\t\\t\\t\\t\\t\\t\\t\\t\\t\\tPrivacy Policy\\t\\t\\t\\t\\t\\t\\t\\t\\t\\t\\t\\n\\n\\n\\n\\t\\t\\t\\t\\t\\t\\t\\t\\t\\t\\t\\t\\tDigital Services Act\\t\\t\\t\\t\\t\\t\\t\\t\\t\\t\\t\\n\\n\\n\\n\\t\\t\\t\\t\\t\\t\\t\\t\\t\\t\\t\\t\\tGlobal Sitemap\\t\\t\\t\\t\\t\\t\\t\\t\\t\\t\\t\\n\\n\\n\\n\\t\\t\\t\\t\\t\\t\\t\\t\\t\\t\\t\\t\\tLocal Sitemap\\t\\t\\t\\t\\t\\t\\t\\t\\t\\t\\t\\n\\n\\n\\n\\t\\t\\t\\t\\t\\t\\t\\t\\t\\t\\t\\t\\tCookie Preferences\\t\\t\\t\\t\\t\\t\\t\\t\\t\\t\\t\\n\\n\\n\\n\\n\\n\\nCommunity\\n\\n\\n\\n\\t\\t\\t\\t\\t\\t\\t\\t\\t\\t\\t\\t\\tCommunity Central\\t\\t\\t\\t\\t\\t\\t\\t\\t\\t\\t\\n\\n\\n\\n\\t\\t\\t\\t\\t\\t\\t\\t\\t\\t\\t\\t\\tSupport\\t\\t\\t\\t\\t\\t\\t\\t\\t\\t\\t\\n\\n\\n\\n\\t\\t\\t\\t\\t\\t\\t\\t\\t\\t\\t\\t\\tHelp\\t\\t\\t\\t\\t\\t\\t\\t\\t\\t\\t\\n\\n\\n\\n\\t\\t\\t\\t\\t\\t\\t\\t\\t\\t\\t\\t\\tDo Not Sell or Share My Personal Information\\t\\t\\t\\t\\t\\t\\t\\t\\t\\t\\t\\n\\n\\n\\n\\nAdvertise\\n\\n\\n\\n\\t\\t\\t\\t\\t\\t\\t\\t\\t\\t\\t\\t\\tMedia Kit\\t\\t\\t\\t\\t\\t\\t\\t\\t\\t\\t\\n\\n\\n\\n\\t\\t\\t\\t\\t\\t\\t\\t\\t\\t\\t\\t\\tContact\\t\\t\\t\\t\\t\\t\\t\\t\\t\\t\\t\\n\\n\\n\\n\\n\\n\\nFandom Apps\\n\\t\\n\\t\\t\\tTake your favorite fandoms with you and never miss a beat.\\t\\n\\t\\n\\t\\n\\n\\n\\n\\n\\n\\n\\n\\n\\n\\n\\n\\n\\n\\n\\n\\n\\n\\nOnce Human Wiki is a FANDOM Lifestyle Community.\\n\\n\\n\\t\\t\\t\\t\\tView Mobile Site\\t\\t\\t\\t\\n\\n\\n\\n\\n\\n\\n\\n\\n\\nFollow on IG\\n\\n\\nTikTok\\n\\n\\nJoin Fan Lab\\n\\n\\n\\n \\n\\n\\n\\n\\n\\n\\n\\n\\n\\n\\n\\n\\n\\n\\n\\n\\n\\n\\n\\n\\n\\n\\n\"), Document(metadata={'source': 'https://once-human.fandom.com/wiki/Solar_Drill', 'title': 'Solar Drill | Once Human Wiki | Fandom', 'description': '\"An upgraded Electric Rock Drill that offers greatly increased Mining efficiency. It runs entirely on solar power.\" This tool makes Mining significantly easier, as it is capable of mining entire Aluminum and Tungsten Ore nodes in seconds. The Solar Drill charges itself on sunny days and the...', 'language': 'en'}, page_content='\\n\\n\\n\\nSolar Drill | Once Human Wiki | Fandom\\n\\n\\n\\n\\n\\n\\n\\n\\n\\n\\n\\n\\n\\n\\n\\n\\n\\n\\n\\n\\n\\n\\n\\n\\n\\n\\n\\n\\n\\n\\n\\n\\n\\n\\n\\n\\n\\n\\n\\n\\n\\n\\n\\n\\n\\n\\n\\n\\nOnce Human Wiki\\n\\n\\n\\n\\n\\n Explore\\n\\n \\n\\n\\n\\n\\n Main Page\\n\\n\\n\\n\\n Discuss\\n\\n\\n\\n\\nAll Pages\\n\\n\\n\\n\\nCommunity\\n\\n\\n\\n\\nInteractive Maps\\n\\n\\n\\n\\nRecent Blog Posts\\n\\n\\n\\n\\n\\n\\n\\n\\nWiki Content\\n\\n \\n\\n\\n\\n\\nRecently Changed Pages\\n \\n\\n\\n\\n\\nLonewolf\\'s Whisper\\n\\n\\n\\n\\nShattered Maiden\\n\\n\\n\\n\\nStrange Door\\n\\n\\n\\n\\nButterfly\\'s Emissary\\n\\n\\n\\n\\nIn The Tall Grass\\n\\n\\n\\n\\nKlein Warren\\n\\n\\n\\n\\nMasonic Pyramid\\n\\n\\n\\n\\n\\n\\n\\nItem\\n \\n\\n\\n\\n\\nLog\\n\\n\\n\\n\\nGravel\\n\\n\\n\\n\\nSulfur\\n\\n\\n\\n\\nCopper Ore\\n\\n\\n\\n\\nTin Ore\\n\\n\\n\\n\\nIron Ore\\n\\n\\n\\n\\nCharcoal\\n\\n\\n\\n\\n\\n\\n\\nMaterials\\n \\n\\n\\n\\n\\nCharcoal\\n\\n\\n\\n\\nActivator\\n\\n\\n\\n\\nBoiled Water\\n\\n\\n\\n\\nAcid\\n\\n\\n\\n\\nStorage Battery\\n\\n\\n\\n\\nWool\\n\\n\\n\\n\\nController\\n\\n\\n\\n\\n\\n\\n\\n\\n\\n\\n\\nCommunity\\n\\n \\n\\n\\n\\n\\nHelp\\n\\n\\n\\n\\n\\n\\n\\n\\n\\n \\n\\n \\n\\n \\n\\n\\n\\n\\n\\n\\n\\nFANDOM\\n\\n\\n \\n\\n\\n\\n\\n\\n\\n\\n\\n\\n\\n\\t\\t\\t\\tFan Central\\t\\t\\t\\n\\n\\t\\t\\t\\t\\tBETA\\t\\t\\t\\t\\n\\n\\n\\n\\n\\n\\n\\n\\n\\t\\t\\t\\tGames\\t\\t\\t\\n\\n\\n\\n\\n\\n\\n\\n\\n\\t\\t\\t\\tAnime\\t\\t\\t\\n\\n\\n\\n\\n\\n\\n\\n\\n\\t\\t\\t\\tMovies\\t\\t\\t\\n\\n\\n\\n\\n\\n\\n\\n\\n\\t\\t\\t\\tTV\\t\\t\\t\\n\\n\\n\\n\\n\\n\\n\\n\\n\\t\\t\\t\\tVideo\\t\\t\\t\\n\\n\\n\\n\\n\\n\\n\\n\\n\\n\\t\\t\\t\\t\\tWikis\\t\\t\\t\\t\\n\\n\\n\\n\\n\\n\\t\\t\\t\\t\\t\\t\\t\\tExplore Wikis\\t\\t\\t\\t\\t\\t\\t\\n\\n\\n\\n\\t\\t\\t\\t\\t\\t\\t\\tCommunity Central\\t\\t\\t\\t\\t\\t\\t\\n\\n\\n\\n\\n\\n\\n \\n\\n\\t\\t\\t\\tStart a Wiki\\t\\t\\t\\n\\n\\n\\n\\n\\n\\n\\n\\n \\n\\n\\n\\n\\tDon\\'t have an account?\\n\\n\\tRegister\\n\\n\\n\\tSign In \\n\\n\\n\\n\\n\\n\\n\\nAdvertisement\\n\\n\\n\\n\\n\\n\\t\\t\\tSign In\\t\\t\\n\\n\\t\\t\\tRegister\\t\\t\\n\\n\\n\\n\\n\\n\\n\\n\\n\\n\\t\\t\\t\\t\\tOnce Human Wiki\\t\\t\\t\\t\\n\\n\\n577pages \\n\\n\\n \\n\\n \\n\\n \\n\\n\\n\\n\\n\\n\\n\\n Explore\\n\\n \\n\\n\\n\\n\\n Main Page\\n\\n\\n\\n\\n Discuss\\n\\n\\n\\n\\nAll Pages\\n\\n\\n\\n\\nCommunity\\n\\n\\n\\n\\nInteractive Maps\\n\\n\\n\\n\\nRecent Blog Posts\\n\\n\\n\\n\\n\\n\\n\\n\\nWiki Content\\n\\n \\n\\n\\n\\n\\nRecently Changed Pages\\n \\n\\n\\n\\n\\nLonewolf\\'s Whisper\\n\\n\\n\\n\\nShattered Maiden\\n\\n\\n\\n\\nStrange Door\\n\\n\\n\\n\\nButterfly\\'s Emissary\\n\\n\\n\\n\\nIn The Tall Grass\\n\\n\\n\\n\\nKlein Warren\\n\\n\\n\\n\\nMasonic Pyramid\\n\\n\\n\\n\\n\\n\\n\\nItem\\n \\n\\n\\n\\n\\nLog\\n\\n\\n\\n\\nGravel\\n\\n\\n\\n\\nSulfur\\n\\n\\n\\n\\nCopper Ore\\n\\n\\n\\n\\nTin Ore\\n\\n\\n\\n\\nIron Ore\\n\\n\\n\\n\\nCharcoal\\n\\n\\n\\n\\n\\n\\n\\nMaterials\\n \\n\\n\\n\\n\\nCharcoal\\n\\n\\n\\n\\nActivator\\n\\n\\n\\n\\nBoiled Water\\n\\n\\n\\n\\nAcid\\n\\n\\n\\n\\nStorage Battery\\n\\n\\n\\n\\nWool\\n\\n\\n\\n\\nController\\n\\n\\n\\n\\n\\n\\n\\n\\n\\n\\n\\nCommunity\\n\\n \\n\\n\\n\\n\\nHelp\\n\\n\\n\\n\\n\\n\\n\\n\\n\\n\\n\\n\\n\\n\\n \\n\\n \\n\\n\\n\\n\\n\\n\\nin:\\nLegendary, Tools, Craftable, \\t\\t\\t\\nand\\n3 more\\n\\n\\n\\nIntermediate Supplies Workbench \\n\\nAdvanced Supplies Workbench \\n\\nItem \\n\\n\\n\\n\\n\\n\\n\\n\\n\\nSolar Drill \\n\\n\\n\\n\\n \\n\\n\\t\\t\\t\\t\\t\\tEdit\\t\\t\\t\\t\\t\\n\\n\\n \\n\\n\\n\\n\\n\\t\\t\\t\\t\\t\\t\\t\\t\\t\\t\\tEdit source\\t\\t\\t\\t\\t\\t\\t\\t\\t\\t\\n\\n\\n\\n\\t\\t\\t\\t\\t\\t\\t\\t\\t\\t\\tHistory\\t\\t\\t\\t\\t\\t\\t\\t\\t\\t\\n\\n\\n\\n\\t\\t\\t\\t\\t\\t\\t\\t\\t\\t\\tTalk (0)\\t\\t\\t\\t\\t\\t\\t\\t\\t\\t\\n\\n\\n\\n\\n\\n\\n\\n\\n\\n\\n\\n\\n\\n\\n\\n\\n\\n\\n\\n\\n\\n\"An upgraded Electric Rock Drill that offers greatly increased Mining efficiency. It runs entirely on solar power.\"\\n\\nSolar Drill\\n\\n\\n\\n\\n\\n\\n\\nRarity\\nLegendary\\n\\n\\nType\\nTools\\n\\n\\nWeight\\n1.000\\n\\n\\nDurability\\n50\\n\\n\\n\\nHow To Get\\n\\nCrafted (Intermediate Supplies Workbench)Crafted (Advanced Supplies Workbench)\\n\\n\\n\\nContents\\n\\n1 Summary\\n2 How To Get\\n\\n2.1 Formulas\\n\\n\\n3 Tips\\n\\n\\n\\nSummary[]\\nThis tool makes Mining significantly easier, as it is capable of mining entire Aluminum and Tungsten Ore nodes in seconds.\\nThe Solar Drill charges itself on sunny days and the yields of Copper Ore, Tin Ore, Iron Ore, Aluminum Ore, and Tungsten Ore increase by 15% (Aluminum), 25% (Tungsten), and 40% (Gold) depending on the materials used.\\n\\nHow To Get[]\\nSolar Drills can be crafted on an Intermediate Supplies Workbench or Advanced Supplies Workbench.\\n\\nFormulas[]\\nIntermediate Supplies Workbench+Advanced Supplies Workbench20Aluminum Ingot20Special Part20Electronic Part20Metallic Fiber1Storage Battery\\nIntermediate Supplies Workbench+Advanced Supplies Workbench40Tungsten Ingot20Special Part20Electronic Part20Metallic Fiber1Storage Battery\\nIntermediate Supplies Workbench+Advanced Supplies Workbench60Gold Ore20Special Part20Electronic Part20Metallic Fiber1Storage Battery\\nTips[]\\nTo unlock the recipe for the Solar Drill, you must have the Memetic Specialization: Solar Drill.\\nCan be crafted at the Intermediate Supplies Workbench or Advanced Supplies Workbench.\\nTakes 60 seconds to craft.\\nWith the Memetic Specialization: Treasure Hunter, you can enjoy a +100% yield when mining for Gold Ore, Silver Ore, and Stardust Ore with an Electric Drill, which includes the Solar Drill. However, as the Solar Drill is classed as a standard Electric Drill, it does not gain the maximum amount of Gold, Silver or Stardust when compared to an Advanced Electric Rock Drill with Treasure Hunter.\\n\\n\\n\\n \\n\\n\\n\\n\\t\\t\\tCategories\\t\\t\\t \\n\\n\\n\\n\\nCategories: \\n\\nLegendary\\n\\n\\n\\nTools\\n\\n\\n\\nCraftable\\n\\n\\n\\nIntermediate Supplies Workbench\\n\\n\\n\\nAdvanced Supplies Workbench\\n\\n\\n\\nItem\\n\\n\\n\\nAdd category\\n\\n\\n\\n\\nCancel\\nSave\\n\\n\\n\\n\\n\\n\\t\\tCommunity content is available under CC-BY-SA unless otherwise noted.\\t\\n\\n\\n\\n\\n\\n\\n\\n\\n\\n\\n\\n\\n\\n\\nAdvertisement\\n\\n\\n\\n\\nFan Feed\\t\\t\\t\\n\\n\\n\\n\\nMore Once Human Wiki\\n\\n\\n\\n\\n1\\nStardust Ore\\n\\n\\n\\n\\n2\\nBlueprints\\n\\n\\n\\n\\n3\\nImpure Acid\\n\\n\\n\\n\\n\\n\\n\\n\\n\\n\\n\\n\\n\\n\\n\\n\\n\\n\\n\\n\\n\\n\\n\\n\\n\\n\\n\\n\\n\\n\\n\\nExplore properties\\n\\n\\n\\n\\t\\t\\t\\t\\t\\t\\t\\t\\t\\t\\t\\t\\tFandom\\t\\t\\t\\t\\t\\t\\t\\t\\t\\t\\t\\n\\n\\n\\n\\t\\t\\t\\t\\t\\t\\t\\t\\t\\t\\t\\t\\tMuthead\\t\\t\\t\\t\\t\\t\\t\\t\\t\\t\\t\\n\\n\\n\\n\\t\\t\\t\\t\\t\\t\\t\\t\\t\\t\\t\\t\\tFanatical\\t\\t\\t\\t\\t\\t\\t\\t\\t\\t\\t\\n\\n\\n\\n\\nFollow Us\\n\\n\\n\\n \\n\\n\\n\\n \\n\\n\\n\\n \\n\\n\\n\\n \\n\\n\\n\\n \\n\\n\\n\\n\\n\\n\\nOverview\\n\\n\\n\\n\\t\\t\\t\\t\\t\\t\\t\\t\\t\\t\\t\\t\\tWhat is Fandom?\\t\\t\\t\\t\\t\\t\\t\\t\\t\\t\\t\\n\\n\\n\\n\\t\\t\\t\\t\\t\\t\\t\\t\\t\\t\\t\\t\\tAbout\\t\\t\\t\\t\\t\\t\\t\\t\\t\\t\\t\\n\\n\\n\\n\\t\\t\\t\\t\\t\\t\\t\\t\\t\\t\\t\\t\\tCareers\\t\\t\\t\\t\\t\\t\\t\\t\\t\\t\\t\\n\\n\\n\\n\\t\\t\\t\\t\\t\\t\\t\\t\\t\\t\\t\\t\\tPress\\t\\t\\t\\t\\t\\t\\t\\t\\t\\t\\t\\n\\n\\n\\n\\t\\t\\t\\t\\t\\t\\t\\t\\t\\t\\t\\t\\tContact\\t\\t\\t\\t\\t\\t\\t\\t\\t\\t\\t\\n\\n\\n\\n\\t\\t\\t\\t\\t\\t\\t\\t\\t\\t\\t\\t\\tTerms of Use\\t\\t\\t\\t\\t\\t\\t\\t\\t\\t\\t\\n\\n\\n\\n\\t\\t\\t\\t\\t\\t\\t\\t\\t\\t\\t\\t\\tPrivacy Policy\\t\\t\\t\\t\\t\\t\\t\\t\\t\\t\\t\\n\\n\\n\\n\\t\\t\\t\\t\\t\\t\\t\\t\\t\\t\\t\\t\\tDigital Services Act\\t\\t\\t\\t\\t\\t\\t\\t\\t\\t\\t\\n\\n\\n\\n\\t\\t\\t\\t\\t\\t\\t\\t\\t\\t\\t\\t\\tGlobal Sitemap\\t\\t\\t\\t\\t\\t\\t\\t\\t\\t\\t\\n\\n\\n\\n\\t\\t\\t\\t\\t\\t\\t\\t\\t\\t\\t\\t\\tLocal Sitemap\\t\\t\\t\\t\\t\\t\\t\\t\\t\\t\\t\\n\\n\\n\\n\\t\\t\\t\\t\\t\\t\\t\\t\\t\\t\\t\\t\\tCookie Preferences\\t\\t\\t\\t\\t\\t\\t\\t\\t\\t\\t\\n\\n\\n\\n\\n\\n\\nCommunity\\n\\n\\n\\n\\t\\t\\t\\t\\t\\t\\t\\t\\t\\t\\t\\t\\tCommunity Central\\t\\t\\t\\t\\t\\t\\t\\t\\t\\t\\t\\n\\n\\n\\n\\t\\t\\t\\t\\t\\t\\t\\t\\t\\t\\t\\t\\tSupport\\t\\t\\t\\t\\t\\t\\t\\t\\t\\t\\t\\n\\n\\n\\n\\t\\t\\t\\t\\t\\t\\t\\t\\t\\t\\t\\t\\tHelp\\t\\t\\t\\t\\t\\t\\t\\t\\t\\t\\t\\n\\n\\n\\n\\t\\t\\t\\t\\t\\t\\t\\t\\t\\t\\t\\t\\tDo Not Sell or Share My Personal Information\\t\\t\\t\\t\\t\\t\\t\\t\\t\\t\\t\\n\\n\\n\\n\\nAdvertise\\n\\n\\n\\n\\t\\t\\t\\t\\t\\t\\t\\t\\t\\t\\t\\t\\tMedia Kit\\t\\t\\t\\t\\t\\t\\t\\t\\t\\t\\t\\n\\n\\n\\n\\t\\t\\t\\t\\t\\t\\t\\t\\t\\t\\t\\t\\tContact\\t\\t\\t\\t\\t\\t\\t\\t\\t\\t\\t\\n\\n\\n\\n\\n\\n\\nFandom Apps\\n\\t\\n\\t\\t\\tTake your favorite fandoms with you and never miss a beat.\\t\\n\\t\\n\\t\\n\\n\\n\\n\\n\\n\\n\\n\\n\\n\\n\\n\\n\\n\\n\\n\\n\\n\\nOnce Human Wiki is a FANDOM Lifestyle Community.\\n\\n\\n\\t\\t\\t\\t\\tView Mobile Site\\t\\t\\t\\t\\n\\n\\n\\n\\n\\n\\n\\n\\n\\nFollow on IG\\n\\n\\nTikTok\\n\\n\\nJoin Fan Lab\\n\\n\\n\\n \\n\\n\\n\\n\\n\\n\\n\\n\\n\\n\\n\\n\\n\\n\\n\\n\\n\\n\\n\\n\\n\\n\\n')]\n"
     ]
    },
    {
     "name": "stderr",
     "output_type": "stream",
     "text": [
      "C:\\Users\\Usrer\\AppData\\Local\\Temp\\ipykernel_19732\\2899793939.py:26: LangChainDeprecationWarning: The class `HuggingFaceEmbeddings` was deprecated in LangChain 0.2.2 and will be removed in 1.0. An updated version of the class exists in the langchain-huggingface package and should be used instead. To use it run `pip install -U langchain-huggingface` and import as `from langchain_huggingface import HuggingFaceEmbeddings`.\n",
      "  embedding_function = SentenceTransformerEmbeddings(model_name=\"all-MiniLM-L6-v2\")\n",
      "c:\\Users\\Usrer\\Desktop\\Company Assessments\\MaiStorage\\venv\\lib\\site-packages\\transformers\\tokenization_utils_base.py:1601: FutureWarning: `clean_up_tokenization_spaces` was not set. It will be set to `True` by default. This behavior will be depracted in transformers v4.45, and will be then set to `False` by default. For more details check this issue: https://github.com/huggingface/transformers/issues/31884\n",
      "  warnings.warn(\n"
     ]
    }
   ],
   "source": [
    "### To do basic pre-processing and chunking for the documents \n",
    "\n",
    "from langchain_community.embeddings.sentence_transformer import SentenceTransformerEmbeddings\n",
    "from langchain_community.vectorstores import Chroma \n",
    "from langchain_text_splitters import CharacterTextSplitter\n",
    "from langchain_community.document_loaders import WebBaseLoader \n",
    "\n",
    "URLs = [\n",
    "    ### external information on different items in the game Once Human\n",
    "    \"https://once-human.fandom.com/wiki/Sanity_Gummy\",\n",
    "    \"https://once-human.fandom.com/wiki/Blueprints\", \n",
    "    \"https://once-human.fandom.com/wiki/Solar_Drill\"\n",
    "]\n",
    "\n",
    "loader = WebBaseLoader(URLs)\n",
    "\n",
    "data = loader.load()\n",
    "\n",
    "print(data)\n",
    "\n",
    "# chunking \n",
    "text_splitter = CharacterTextSplitter(chunk_size=1024, chunk_overlap=0)\n",
    "docs = text_splitter.split_documents(data)\n",
    "\n",
    "# create embeddings with open-source functions\n",
    "embedding_function = SentenceTransformerEmbeddings(model_name=\"all-MiniLM-L6-v2\")\n",
    "\n",
    "# load it into Chroma, vector stores provided by langchain\n",
    "chroma_db = Chroma.from_documents(docs, embedding_function)\n",
    "retriever = chroma_db.as_retriever(search_type=\"mmr\", search_kwargs={'k': 5, 'fetch_k': 20 })"
   ]
  },
  {
   "cell_type": "code",
   "execution_count": 17,
   "metadata": {},
   "outputs": [],
   "source": [
    "from langchain.chains import create_history_aware_retriever, create_retrieval_chain\n",
    "from langchain_core.prompts import ChatPromptTemplate, MessagesPlaceholder\n",
    "from langchain.chains.combine_documents import create_stuff_documents_chain\n",
    "from langchain_community.chat_message_histories import ChatMessageHistory\n",
    "from langchain_core.runnables.history import RunnableWithMessageHistory\n",
    "\n",
    "CH_SYSTEM_PROMPT = \"\"\"Given a chat history and the latest user question \\\n",
    "which might reference context in the chat history, formulate a standalone question \\\n",
    "which can be understood without the chat history. Do NOT answer the question, \\\n",
    "just reformulate it if needed and otherwise return it as is.\"\"\"\n",
    "\n",
    "CHAT_HISTORY_TEMPLATE = ChatPromptTemplate.from_messages(\n",
    "    [\n",
    "        (\"system\", CH_SYSTEM_PROMPT), # ROLE, PROMPT_TEMPLATE format\n",
    "        MessagesPlaceholder(\"chat_history\"), # allow us to pass in a list of Messages to the prompt using \"chat_history\" keyword\n",
    "        (\"human\", \"{input}\"),\n",
    "    ]\n",
    ")\n",
    "\n",
    "history_aware_retriever = create_history_aware_retriever(\n",
    "    llm=model,\n",
    "    retriever=chroma_db.as_retriever(),\n",
    "    prompt=CHAT_HISTORY_TEMPLATE,\n",
    ")\n",
    "\n",
    "RAG_SYSTEM_PROMPT = \"\"\"You are an assistant for question-answering tasks. \\\n",
    "Use the following pieces of retrieved context to answer the question. \\\n",
    "If you don't know the answer, just say that you don't know. \\\n",
    "Use three sentences maximum and keep the answer concise.\\\n",
    "Just return answer to the question directly. Do not try to make up the next question and answer. \\\n",
    "\n",
    "Context: {context}\"\"\"\n",
    "\n",
    "RAG_TEMPLATE = ChatPromptTemplate.from_messages(\n",
    "    [\n",
    "        (\"system\", RAG_SYSTEM_PROMPT),\n",
    "        MessagesPlaceholder(\"chat_history\"),\n",
    "        (\"human\", \"{input}\"),\n",
    "    ]\n",
    ")\n",
    "\n",
    "question_answering_chain = create_stuff_documents_chain(llm=model, prompt=RAG_TEMPLATE)\n",
    "\n",
    "rag_chain = create_retrieval_chain(\n",
    "    retriever=history_aware_retriever,\n",
    "    combine_docs_chain=question_answering_chain,\n",
    ")\n",
    "\n",
    "store = {}\n",
    "\n",
    "def get_session_history(session_id):\n",
    "    if session_id not in store:\n",
    "        store[session_id] = ChatMessageHistory()\n",
    "\n",
    "    return store[session_id]\n",
    "\n",
    "conversational_rag_chain = RunnableWithMessageHistory(\n",
    "    rag_chain,\n",
    "    get_session_history,\n",
    "    input_messages_key='input',\n",
    "    history_messages_key='chat_history',\n",
    "    output_messages_key='answer'\n",
    ")\n",
    "\n",
    "# questions to ask the model\n",
    "question1 = \"What is sanity gummy in the game called Once Human?\"\n",
    "question2 = \"How to craft that item?\""
   ]
  },
  {
   "cell_type": "code",
   "execution_count": 18,
   "metadata": {},
   "outputs": [
    {
     "name": "stdout",
     "output_type": "stream",
     "text": [
      " \n",
      "Answer: A placebo that contains sugar to balance its bitter taste. Calling it 'candy' is just a bitter joke. It is a rare, consumable item that can be crafted in the game. It increases sanity by 500.\n"
     ]
    }
   ],
   "source": [
    "response1 = conversational_rag_chain.invoke(\n",
    "    { 'input': question1 },\n",
    "    config={ 'configurable': { 'session_id': '1' } } # session_id can be randomly generated hash\n",
    ")\n",
    "\n",
    "print(response1['answer'])"
   ]
  },
  {
   "cell_type": "code",
   "execution_count": 19,
   "metadata": {},
   "outputs": [
    {
     "name": "stdout",
     "output_type": "stream",
     "text": [
      " \n",
      "AI: You can craft the Sanity Gummy in the game by using 1 water (pure or boiled) and 1 sugar on a kitchen set.\n"
     ]
    }
   ],
   "source": [
    "response2 = conversational_rag_chain.invoke(\n",
    "    { 'input': question2 },\n",
    "    config={ 'configurable': { 'session_id': '1' } } # session_id can be randomly generated hash\n",
    ")\n",
    "\n",
    "print(response2['answer'])"
   ]
  },
  {
   "cell_type": "code",
   "execution_count": null,
   "metadata": {},
   "outputs": [],
   "source": []
  }
 ],
 "metadata": {
  "kernelspec": {
   "display_name": "venv",
   "language": "python",
   "name": "python3"
  },
  "language_info": {
   "codemirror_mode": {
    "name": "ipython",
    "version": 3
   },
   "file_extension": ".py",
   "mimetype": "text/x-python",
   "name": "python",
   "nbconvert_exporter": "python",
   "pygments_lexer": "ipython3",
   "version": "3.10.9"
  }
 },
 "nbformat": 4,
 "nbformat_minor": 2
}
